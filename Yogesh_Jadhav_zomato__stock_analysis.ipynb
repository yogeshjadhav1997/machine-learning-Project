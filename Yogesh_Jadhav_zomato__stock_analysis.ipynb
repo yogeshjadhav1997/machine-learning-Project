{
  "nbformat": 4,
  "nbformat_minor": 0,
  "metadata": {
    "colab": {
      "name": "Yogesh_Jadhav_zomato _stock_analysis.ipynb",
      "provenance": [],
      "collapsed_sections": [],
      "mount_file_id": "1U62AS1Ra7aZQEfHRb38Kvd5iT1Y7pDdP",
      "authorship_tag": "ABX9TyPP1ChaKXcbELyEBIme1EWW",
      "include_colab_link": true
    },
    "kernelspec": {
      "name": "python3",
      "display_name": "Python 3"
    },
    "language_info": {
      "name": "python"
    }
  },
  "cells": [
    {
      "cell_type": "markdown",
      "metadata": {
        "id": "view-in-github",
        "colab_type": "text"
      },
      "source": [
        "<a href=\"https://colab.research.google.com/github/yogeshjadhav1997/machine-learning-Project/blob/main/Yogesh_Jadhav_zomato__stock_analysis.ipynb\" target=\"_parent\"><img src=\"https://colab.research.google.com/assets/colab-badge.svg\" alt=\"Open In Colab\"/></a>"
      ]
    },
    {
      "cell_type": "code",
      "execution_count": 1,
      "metadata": {
        "id": "NDf7eENWcTL0"
      },
      "outputs": [],
      "source": [
        "#Imported Required Libraries\n",
        "import numpy as np\n",
        "import pandas as pd\n",
        "\n"
      ]
    },
    {
      "cell_type": "code",
      "source": [
        "from google.colab import drive\n",
        "drive.mount('/content/drive')"
      ],
      "metadata": {
        "colab": {
          "base_uri": "https://localhost:8080/"
        },
        "id": "O15J_d6H5NiC",
        "outputId": "72305eb7-f05b-4814-b93c-3b605003b00b"
      },
      "execution_count": 2,
      "outputs": [
        {
          "output_type": "stream",
          "name": "stdout",
          "text": [
            "Mounted at /content/drive\n"
          ]
        }
      ]
    },
    {
      "cell_type": "code",
      "source": [
        "#Imported Data \n",
        "df=pd.read_csv('/content/drive/MyDrive/Dataset_DL/ZOMATO.csv')\n",
        "df.head()"
      ],
      "metadata": {
        "colab": {
          "base_uri": "https://localhost:8080/",
          "height": 458
        },
        "id": "BgcVfdvzeCCM",
        "outputId": "10caf15c-4dfc-48f3-c1ca-126d6efbc58a"
      },
      "execution_count": 3,
      "outputs": [
        {
          "output_type": "execute_result",
          "data": {
            "text/plain": [
              "   Symbol Series       Date  Prev Close  Open Price  High Price  Low Price  \\\n",
              "0  ZOMATO     EQ  23-Jul-21       76.00      116.00      138.90     115.00   \n",
              "1  ZOMATO     EQ  26-Jul-21      126.00      126.35      143.75     125.30   \n",
              "2  ZOMATO     EQ  27-Jul-21      140.65      141.70      147.80     127.75   \n",
              "3  ZOMATO     EQ  28-Jul-21      132.90      131.00      135.00     123.55   \n",
              "4  ZOMATO     EQ  29-Jul-21      131.20      134.95      144.00     132.20   \n",
              "\n",
              "   Last Price  Close Price  Average Price  Total Traded Quantity  \\\n",
              "0      125.30       126.00         124.12              694895290   \n",
              "1      138.05       140.65         134.63              249723854   \n",
              "2      130.65       132.90         141.09              240341900   \n",
              "3      133.00       131.20         127.90              159793731   \n",
              "4      142.25       141.55         137.73              117973089   \n",
              "\n",
              "       Turnover  No. of Trades Deliverable Qty % Dly Qt to Traded Qty  \\\n",
              "0  8.625275e+10        2428917       420490932                  60.51   \n",
              "1  3.362032e+10        1034160        56416984                  22.59   \n",
              "2  3.390968e+10        1075475        49747283                   20.7   \n",
              "3  2.043701e+10         627048        30085262                  18.83   \n",
              "4  1.624880e+10         489222        23022932                  19.52   \n",
              "\n",
              "   Prev Traded Quantity  \n",
              "0                   NaN  \n",
              "1           694895290.0  \n",
              "2           249723854.0  \n",
              "3           240341900.0  \n",
              "4           159793731.0  "
            ],
            "text/html": [
              "\n",
              "  <div id=\"df-95ff014d-92dd-4898-830f-470833a95ac9\">\n",
              "    <div class=\"colab-df-container\">\n",
              "      <div>\n",
              "<style scoped>\n",
              "    .dataframe tbody tr th:only-of-type {\n",
              "        vertical-align: middle;\n",
              "    }\n",
              "\n",
              "    .dataframe tbody tr th {\n",
              "        vertical-align: top;\n",
              "    }\n",
              "\n",
              "    .dataframe thead th {\n",
              "        text-align: right;\n",
              "    }\n",
              "</style>\n",
              "<table border=\"1\" class=\"dataframe\">\n",
              "  <thead>\n",
              "    <tr style=\"text-align: right;\">\n",
              "      <th></th>\n",
              "      <th>Symbol</th>\n",
              "      <th>Series</th>\n",
              "      <th>Date</th>\n",
              "      <th>Prev Close</th>\n",
              "      <th>Open Price</th>\n",
              "      <th>High Price</th>\n",
              "      <th>Low Price</th>\n",
              "      <th>Last Price</th>\n",
              "      <th>Close Price</th>\n",
              "      <th>Average Price</th>\n",
              "      <th>Total Traded Quantity</th>\n",
              "      <th>Turnover</th>\n",
              "      <th>No. of Trades</th>\n",
              "      <th>Deliverable Qty</th>\n",
              "      <th>% Dly Qt to Traded Qty</th>\n",
              "      <th>Prev Traded Quantity</th>\n",
              "    </tr>\n",
              "  </thead>\n",
              "  <tbody>\n",
              "    <tr>\n",
              "      <th>0</th>\n",
              "      <td>ZOMATO</td>\n",
              "      <td>EQ</td>\n",
              "      <td>23-Jul-21</td>\n",
              "      <td>76.00</td>\n",
              "      <td>116.00</td>\n",
              "      <td>138.90</td>\n",
              "      <td>115.00</td>\n",
              "      <td>125.30</td>\n",
              "      <td>126.00</td>\n",
              "      <td>124.12</td>\n",
              "      <td>694895290</td>\n",
              "      <td>8.625275e+10</td>\n",
              "      <td>2428917</td>\n",
              "      <td>420490932</td>\n",
              "      <td>60.51</td>\n",
              "      <td>NaN</td>\n",
              "    </tr>\n",
              "    <tr>\n",
              "      <th>1</th>\n",
              "      <td>ZOMATO</td>\n",
              "      <td>EQ</td>\n",
              "      <td>26-Jul-21</td>\n",
              "      <td>126.00</td>\n",
              "      <td>126.35</td>\n",
              "      <td>143.75</td>\n",
              "      <td>125.30</td>\n",
              "      <td>138.05</td>\n",
              "      <td>140.65</td>\n",
              "      <td>134.63</td>\n",
              "      <td>249723854</td>\n",
              "      <td>3.362032e+10</td>\n",
              "      <td>1034160</td>\n",
              "      <td>56416984</td>\n",
              "      <td>22.59</td>\n",
              "      <td>694895290.0</td>\n",
              "    </tr>\n",
              "    <tr>\n",
              "      <th>2</th>\n",
              "      <td>ZOMATO</td>\n",
              "      <td>EQ</td>\n",
              "      <td>27-Jul-21</td>\n",
              "      <td>140.65</td>\n",
              "      <td>141.70</td>\n",
              "      <td>147.80</td>\n",
              "      <td>127.75</td>\n",
              "      <td>130.65</td>\n",
              "      <td>132.90</td>\n",
              "      <td>141.09</td>\n",
              "      <td>240341900</td>\n",
              "      <td>3.390968e+10</td>\n",
              "      <td>1075475</td>\n",
              "      <td>49747283</td>\n",
              "      <td>20.7</td>\n",
              "      <td>249723854.0</td>\n",
              "    </tr>\n",
              "    <tr>\n",
              "      <th>3</th>\n",
              "      <td>ZOMATO</td>\n",
              "      <td>EQ</td>\n",
              "      <td>28-Jul-21</td>\n",
              "      <td>132.90</td>\n",
              "      <td>131.00</td>\n",
              "      <td>135.00</td>\n",
              "      <td>123.55</td>\n",
              "      <td>133.00</td>\n",
              "      <td>131.20</td>\n",
              "      <td>127.90</td>\n",
              "      <td>159793731</td>\n",
              "      <td>2.043701e+10</td>\n",
              "      <td>627048</td>\n",
              "      <td>30085262</td>\n",
              "      <td>18.83</td>\n",
              "      <td>240341900.0</td>\n",
              "    </tr>\n",
              "    <tr>\n",
              "      <th>4</th>\n",
              "      <td>ZOMATO</td>\n",
              "      <td>EQ</td>\n",
              "      <td>29-Jul-21</td>\n",
              "      <td>131.20</td>\n",
              "      <td>134.95</td>\n",
              "      <td>144.00</td>\n",
              "      <td>132.20</td>\n",
              "      <td>142.25</td>\n",
              "      <td>141.55</td>\n",
              "      <td>137.73</td>\n",
              "      <td>117973089</td>\n",
              "      <td>1.624880e+10</td>\n",
              "      <td>489222</td>\n",
              "      <td>23022932</td>\n",
              "      <td>19.52</td>\n",
              "      <td>159793731.0</td>\n",
              "    </tr>\n",
              "  </tbody>\n",
              "</table>\n",
              "</div>\n",
              "      <button class=\"colab-df-convert\" onclick=\"convertToInteractive('df-95ff014d-92dd-4898-830f-470833a95ac9')\"\n",
              "              title=\"Convert this dataframe to an interactive table.\"\n",
              "              style=\"display:none;\">\n",
              "        \n",
              "  <svg xmlns=\"http://www.w3.org/2000/svg\" height=\"24px\"viewBox=\"0 0 24 24\"\n",
              "       width=\"24px\">\n",
              "    <path d=\"M0 0h24v24H0V0z\" fill=\"none\"/>\n",
              "    <path d=\"M18.56 5.44l.94 2.06.94-2.06 2.06-.94-2.06-.94-.94-2.06-.94 2.06-2.06.94zm-11 1L8.5 8.5l.94-2.06 2.06-.94-2.06-.94L8.5 2.5l-.94 2.06-2.06.94zm10 10l.94 2.06.94-2.06 2.06-.94-2.06-.94-.94-2.06-.94 2.06-2.06.94z\"/><path d=\"M17.41 7.96l-1.37-1.37c-.4-.4-.92-.59-1.43-.59-.52 0-1.04.2-1.43.59L10.3 9.45l-7.72 7.72c-.78.78-.78 2.05 0 2.83L4 21.41c.39.39.9.59 1.41.59.51 0 1.02-.2 1.41-.59l7.78-7.78 2.81-2.81c.8-.78.8-2.07 0-2.86zM5.41 20L4 18.59l7.72-7.72 1.47 1.35L5.41 20z\"/>\n",
              "  </svg>\n",
              "      </button>\n",
              "      \n",
              "  <style>\n",
              "    .colab-df-container {\n",
              "      display:flex;\n",
              "      flex-wrap:wrap;\n",
              "      gap: 12px;\n",
              "    }\n",
              "\n",
              "    .colab-df-convert {\n",
              "      background-color: #E8F0FE;\n",
              "      border: none;\n",
              "      border-radius: 50%;\n",
              "      cursor: pointer;\n",
              "      display: none;\n",
              "      fill: #1967D2;\n",
              "      height: 32px;\n",
              "      padding: 0 0 0 0;\n",
              "      width: 32px;\n",
              "    }\n",
              "\n",
              "    .colab-df-convert:hover {\n",
              "      background-color: #E2EBFA;\n",
              "      box-shadow: 0px 1px 2px rgba(60, 64, 67, 0.3), 0px 1px 3px 1px rgba(60, 64, 67, 0.15);\n",
              "      fill: #174EA6;\n",
              "    }\n",
              "\n",
              "    [theme=dark] .colab-df-convert {\n",
              "      background-color: #3B4455;\n",
              "      fill: #D2E3FC;\n",
              "    }\n",
              "\n",
              "    [theme=dark] .colab-df-convert:hover {\n",
              "      background-color: #434B5C;\n",
              "      box-shadow: 0px 1px 3px 1px rgba(0, 0, 0, 0.15);\n",
              "      filter: drop-shadow(0px 1px 2px rgba(0, 0, 0, 0.3));\n",
              "      fill: #FFFFFF;\n",
              "    }\n",
              "  </style>\n",
              "\n",
              "      <script>\n",
              "        const buttonEl =\n",
              "          document.querySelector('#df-95ff014d-92dd-4898-830f-470833a95ac9 button.colab-df-convert');\n",
              "        buttonEl.style.display =\n",
              "          google.colab.kernel.accessAllowed ? 'block' : 'none';\n",
              "\n",
              "        async function convertToInteractive(key) {\n",
              "          const element = document.querySelector('#df-95ff014d-92dd-4898-830f-470833a95ac9');\n",
              "          const dataTable =\n",
              "            await google.colab.kernel.invokeFunction('convertToInteractive',\n",
              "                                                     [key], {});\n",
              "          if (!dataTable) return;\n",
              "\n",
              "          const docLinkHtml = 'Like what you see? Visit the ' +\n",
              "            '<a target=\"_blank\" href=https://colab.research.google.com/notebooks/data_table.ipynb>data table notebook</a>'\n",
              "            + ' to learn more about interactive tables.';\n",
              "          element.innerHTML = '';\n",
              "          dataTable['output_type'] = 'display_data';\n",
              "          await google.colab.output.renderOutput(dataTable, element);\n",
              "          const docLink = document.createElement('div');\n",
              "          docLink.innerHTML = docLinkHtml;\n",
              "          element.appendChild(docLink);\n",
              "        }\n",
              "      </script>\n",
              "    </div>\n",
              "  </div>\n",
              "  "
            ]
          },
          "metadata": {},
          "execution_count": 3
        }
      ]
    },
    {
      "cell_type": "code",
      "source": [
        "df.shape"
      ],
      "metadata": {
        "colab": {
          "base_uri": "https://localhost:8080/"
        },
        "id": "hNt9PBxBogtP",
        "outputId": "041f4441-ebe3-487e-c23d-29d7baf602ef"
      },
      "execution_count": 4,
      "outputs": [
        {
          "output_type": "execute_result",
          "data": {
            "text/plain": [
              "(259, 16)"
            ]
          },
          "metadata": {},
          "execution_count": 4
        }
      ]
    },
    {
      "cell_type": "code",
      "source": [
        "df.columns"
      ],
      "metadata": {
        "colab": {
          "base_uri": "https://localhost:8080/"
        },
        "id": "IiyvaksmhUwN",
        "outputId": "4038d020-fea6-4847-de9d-8c2df3657b62"
      },
      "execution_count": 5,
      "outputs": [
        {
          "output_type": "execute_result",
          "data": {
            "text/plain": [
              "Index(['Symbol', 'Series', 'Date', 'Prev Close', 'Open Price', 'High Price',\n",
              "       'Low Price', 'Last Price', 'Close Price', 'Average Price',\n",
              "       'Total Traded Quantity', 'Turnover', 'No. of Trades', 'Deliverable Qty',\n",
              "       '% Dly Qt to Traded Qty', 'Prev Traded Quantity'],\n",
              "      dtype='object')"
            ]
          },
          "metadata": {},
          "execution_count": 5
        }
      ]
    },
    {
      "cell_type": "code",
      "source": [
        "#We Only Get those Columns are required for us this analysis\n",
        "newdata=df.drop(['Symbol', 'Series','Date','Last Price', 'Close Price','Turnover',\n",
        "                 'No. of Trades','Average Price', 'Deliverable Qty','% Dly Qt to Traded Qty',\n",
        "      ],axis=1)"
      ],
      "metadata": {
        "id": "-HLqdh7ooro3"
      },
      "execution_count": 6,
      "outputs": []
    },
    {
      "cell_type": "code",
      "source": [
        "newdata.columns"
      ],
      "metadata": {
        "colab": {
          "base_uri": "https://localhost:8080/"
        },
        "id": "LGBS4xFcqdW_",
        "outputId": "af89324e-de42-49b3-b7aa-22055e1c5e42"
      },
      "execution_count": 7,
      "outputs": [
        {
          "output_type": "execute_result",
          "data": {
            "text/plain": [
              "Index(['Prev Close', 'Open Price', 'High Price', 'Low Price',\n",
              "       'Total Traded Quantity', 'Prev Traded Quantity'],\n",
              "      dtype='object')"
            ]
          },
          "metadata": {},
          "execution_count": 7
        }
      ]
    },
    {
      "cell_type": "code",
      "source": [
        "#We Only Get those Columns are required for us this analysis\n",
        "\n",
        "newdata.rename(columns = {'Open Price':'Open', 'High Price':'High','Low Price':'Low', 'Total Traded Quantity':'Volume','Prev Close':'Previous_Close', 'Prev Traded Quantity':'Previous_Volume',}, inplace = True)\n",
        "\n",
        "newdata.head()"
      ],
      "metadata": {
        "colab": {
          "base_uri": "https://localhost:8080/",
          "height": 206
        },
        "id": "EJnfl2F5h-5Y",
        "outputId": "89ad1a3a-b8f5-44f2-e547-d4ed0ce68613"
      },
      "execution_count": 8,
      "outputs": [
        {
          "output_type": "execute_result",
          "data": {
            "text/plain": [
              "   Previous_Close    Open    High     Low     Volume  Previous_Volume\n",
              "0           76.00  116.00  138.90  115.00  694895290              NaN\n",
              "1          126.00  126.35  143.75  125.30  249723854      694895290.0\n",
              "2          140.65  141.70  147.80  127.75  240341900      249723854.0\n",
              "3          132.90  131.00  135.00  123.55  159793731      240341900.0\n",
              "4          131.20  134.95  144.00  132.20  117973089      159793731.0"
            ],
            "text/html": [
              "\n",
              "  <div id=\"df-dc5f47c5-e3f8-47c7-b040-401c6e54d403\">\n",
              "    <div class=\"colab-df-container\">\n",
              "      <div>\n",
              "<style scoped>\n",
              "    .dataframe tbody tr th:only-of-type {\n",
              "        vertical-align: middle;\n",
              "    }\n",
              "\n",
              "    .dataframe tbody tr th {\n",
              "        vertical-align: top;\n",
              "    }\n",
              "\n",
              "    .dataframe thead th {\n",
              "        text-align: right;\n",
              "    }\n",
              "</style>\n",
              "<table border=\"1\" class=\"dataframe\">\n",
              "  <thead>\n",
              "    <tr style=\"text-align: right;\">\n",
              "      <th></th>\n",
              "      <th>Previous_Close</th>\n",
              "      <th>Open</th>\n",
              "      <th>High</th>\n",
              "      <th>Low</th>\n",
              "      <th>Volume</th>\n",
              "      <th>Previous_Volume</th>\n",
              "    </tr>\n",
              "  </thead>\n",
              "  <tbody>\n",
              "    <tr>\n",
              "      <th>0</th>\n",
              "      <td>76.00</td>\n",
              "      <td>116.00</td>\n",
              "      <td>138.90</td>\n",
              "      <td>115.00</td>\n",
              "      <td>694895290</td>\n",
              "      <td>NaN</td>\n",
              "    </tr>\n",
              "    <tr>\n",
              "      <th>1</th>\n",
              "      <td>126.00</td>\n",
              "      <td>126.35</td>\n",
              "      <td>143.75</td>\n",
              "      <td>125.30</td>\n",
              "      <td>249723854</td>\n",
              "      <td>694895290.0</td>\n",
              "    </tr>\n",
              "    <tr>\n",
              "      <th>2</th>\n",
              "      <td>140.65</td>\n",
              "      <td>141.70</td>\n",
              "      <td>147.80</td>\n",
              "      <td>127.75</td>\n",
              "      <td>240341900</td>\n",
              "      <td>249723854.0</td>\n",
              "    </tr>\n",
              "    <tr>\n",
              "      <th>3</th>\n",
              "      <td>132.90</td>\n",
              "      <td>131.00</td>\n",
              "      <td>135.00</td>\n",
              "      <td>123.55</td>\n",
              "      <td>159793731</td>\n",
              "      <td>240341900.0</td>\n",
              "    </tr>\n",
              "    <tr>\n",
              "      <th>4</th>\n",
              "      <td>131.20</td>\n",
              "      <td>134.95</td>\n",
              "      <td>144.00</td>\n",
              "      <td>132.20</td>\n",
              "      <td>117973089</td>\n",
              "      <td>159793731.0</td>\n",
              "    </tr>\n",
              "  </tbody>\n",
              "</table>\n",
              "</div>\n",
              "      <button class=\"colab-df-convert\" onclick=\"convertToInteractive('df-dc5f47c5-e3f8-47c7-b040-401c6e54d403')\"\n",
              "              title=\"Convert this dataframe to an interactive table.\"\n",
              "              style=\"display:none;\">\n",
              "        \n",
              "  <svg xmlns=\"http://www.w3.org/2000/svg\" height=\"24px\"viewBox=\"0 0 24 24\"\n",
              "       width=\"24px\">\n",
              "    <path d=\"M0 0h24v24H0V0z\" fill=\"none\"/>\n",
              "    <path d=\"M18.56 5.44l.94 2.06.94-2.06 2.06-.94-2.06-.94-.94-2.06-.94 2.06-2.06.94zm-11 1L8.5 8.5l.94-2.06 2.06-.94-2.06-.94L8.5 2.5l-.94 2.06-2.06.94zm10 10l.94 2.06.94-2.06 2.06-.94-2.06-.94-.94-2.06-.94 2.06-2.06.94z\"/><path d=\"M17.41 7.96l-1.37-1.37c-.4-.4-.92-.59-1.43-.59-.52 0-1.04.2-1.43.59L10.3 9.45l-7.72 7.72c-.78.78-.78 2.05 0 2.83L4 21.41c.39.39.9.59 1.41.59.51 0 1.02-.2 1.41-.59l7.78-7.78 2.81-2.81c.8-.78.8-2.07 0-2.86zM5.41 20L4 18.59l7.72-7.72 1.47 1.35L5.41 20z\"/>\n",
              "  </svg>\n",
              "      </button>\n",
              "      \n",
              "  <style>\n",
              "    .colab-df-container {\n",
              "      display:flex;\n",
              "      flex-wrap:wrap;\n",
              "      gap: 12px;\n",
              "    }\n",
              "\n",
              "    .colab-df-convert {\n",
              "      background-color: #E8F0FE;\n",
              "      border: none;\n",
              "      border-radius: 50%;\n",
              "      cursor: pointer;\n",
              "      display: none;\n",
              "      fill: #1967D2;\n",
              "      height: 32px;\n",
              "      padding: 0 0 0 0;\n",
              "      width: 32px;\n",
              "    }\n",
              "\n",
              "    .colab-df-convert:hover {\n",
              "      background-color: #E2EBFA;\n",
              "      box-shadow: 0px 1px 2px rgba(60, 64, 67, 0.3), 0px 1px 3px 1px rgba(60, 64, 67, 0.15);\n",
              "      fill: #174EA6;\n",
              "    }\n",
              "\n",
              "    [theme=dark] .colab-df-convert {\n",
              "      background-color: #3B4455;\n",
              "      fill: #D2E3FC;\n",
              "    }\n",
              "\n",
              "    [theme=dark] .colab-df-convert:hover {\n",
              "      background-color: #434B5C;\n",
              "      box-shadow: 0px 1px 3px 1px rgba(0, 0, 0, 0.15);\n",
              "      filter: drop-shadow(0px 1px 2px rgba(0, 0, 0, 0.3));\n",
              "      fill: #FFFFFF;\n",
              "    }\n",
              "  </style>\n",
              "\n",
              "      <script>\n",
              "        const buttonEl =\n",
              "          document.querySelector('#df-dc5f47c5-e3f8-47c7-b040-401c6e54d403 button.colab-df-convert');\n",
              "        buttonEl.style.display =\n",
              "          google.colab.kernel.accessAllowed ? 'block' : 'none';\n",
              "\n",
              "        async function convertToInteractive(key) {\n",
              "          const element = document.querySelector('#df-dc5f47c5-e3f8-47c7-b040-401c6e54d403');\n",
              "          const dataTable =\n",
              "            await google.colab.kernel.invokeFunction('convertToInteractive',\n",
              "                                                     [key], {});\n",
              "          if (!dataTable) return;\n",
              "\n",
              "          const docLinkHtml = 'Like what you see? Visit the ' +\n",
              "            '<a target=\"_blank\" href=https://colab.research.google.com/notebooks/data_table.ipynb>data table notebook</a>'\n",
              "            + ' to learn more about interactive tables.';\n",
              "          element.innerHTML = '';\n",
              "          dataTable['output_type'] = 'display_data';\n",
              "          await google.colab.output.renderOutput(dataTable, element);\n",
              "          const docLink = document.createElement('div');\n",
              "          docLink.innerHTML = docLinkHtml;\n",
              "          element.appendChild(docLink);\n",
              "        }\n",
              "      </script>\n",
              "    </div>\n",
              "  </div>\n",
              "  "
            ]
          },
          "metadata": {},
          "execution_count": 8
        }
      ]
    },
    {
      "cell_type": "code",
      "source": [
        "newdata.shape"
      ],
      "metadata": {
        "colab": {
          "base_uri": "https://localhost:8080/"
        },
        "id": "KyaU5UYem-gh",
        "outputId": "11798c42-cb6a-4700-c781-fe3857d04956"
      },
      "execution_count": 9,
      "outputs": [
        {
          "output_type": "execute_result",
          "data": {
            "text/plain": [
              "(259, 6)"
            ]
          },
          "metadata": {},
          "execution_count": 9
        }
      ]
    },
    {
      "cell_type": "code",
      "source": [
        "newdata.head()"
      ],
      "metadata": {
        "colab": {
          "base_uri": "https://localhost:8080/",
          "height": 206
        },
        "id": "bnqOkUrexS6_",
        "outputId": "bb640210-0e38-4ef2-eaa2-e32af3538536"
      },
      "execution_count": 10,
      "outputs": [
        {
          "output_type": "execute_result",
          "data": {
            "text/plain": [
              "   Previous_Close    Open    High     Low     Volume  Previous_Volume\n",
              "0           76.00  116.00  138.90  115.00  694895290              NaN\n",
              "1          126.00  126.35  143.75  125.30  249723854      694895290.0\n",
              "2          140.65  141.70  147.80  127.75  240341900      249723854.0\n",
              "3          132.90  131.00  135.00  123.55  159793731      240341900.0\n",
              "4          131.20  134.95  144.00  132.20  117973089      159793731.0"
            ],
            "text/html": [
              "\n",
              "  <div id=\"df-561ab233-ae2b-41b4-a478-c98717404af5\">\n",
              "    <div class=\"colab-df-container\">\n",
              "      <div>\n",
              "<style scoped>\n",
              "    .dataframe tbody tr th:only-of-type {\n",
              "        vertical-align: middle;\n",
              "    }\n",
              "\n",
              "    .dataframe tbody tr th {\n",
              "        vertical-align: top;\n",
              "    }\n",
              "\n",
              "    .dataframe thead th {\n",
              "        text-align: right;\n",
              "    }\n",
              "</style>\n",
              "<table border=\"1\" class=\"dataframe\">\n",
              "  <thead>\n",
              "    <tr style=\"text-align: right;\">\n",
              "      <th></th>\n",
              "      <th>Previous_Close</th>\n",
              "      <th>Open</th>\n",
              "      <th>High</th>\n",
              "      <th>Low</th>\n",
              "      <th>Volume</th>\n",
              "      <th>Previous_Volume</th>\n",
              "    </tr>\n",
              "  </thead>\n",
              "  <tbody>\n",
              "    <tr>\n",
              "      <th>0</th>\n",
              "      <td>76.00</td>\n",
              "      <td>116.00</td>\n",
              "      <td>138.90</td>\n",
              "      <td>115.00</td>\n",
              "      <td>694895290</td>\n",
              "      <td>NaN</td>\n",
              "    </tr>\n",
              "    <tr>\n",
              "      <th>1</th>\n",
              "      <td>126.00</td>\n",
              "      <td>126.35</td>\n",
              "      <td>143.75</td>\n",
              "      <td>125.30</td>\n",
              "      <td>249723854</td>\n",
              "      <td>694895290.0</td>\n",
              "    </tr>\n",
              "    <tr>\n",
              "      <th>2</th>\n",
              "      <td>140.65</td>\n",
              "      <td>141.70</td>\n",
              "      <td>147.80</td>\n",
              "      <td>127.75</td>\n",
              "      <td>240341900</td>\n",
              "      <td>249723854.0</td>\n",
              "    </tr>\n",
              "    <tr>\n",
              "      <th>3</th>\n",
              "      <td>132.90</td>\n",
              "      <td>131.00</td>\n",
              "      <td>135.00</td>\n",
              "      <td>123.55</td>\n",
              "      <td>159793731</td>\n",
              "      <td>240341900.0</td>\n",
              "    </tr>\n",
              "    <tr>\n",
              "      <th>4</th>\n",
              "      <td>131.20</td>\n",
              "      <td>134.95</td>\n",
              "      <td>144.00</td>\n",
              "      <td>132.20</td>\n",
              "      <td>117973089</td>\n",
              "      <td>159793731.0</td>\n",
              "    </tr>\n",
              "  </tbody>\n",
              "</table>\n",
              "</div>\n",
              "      <button class=\"colab-df-convert\" onclick=\"convertToInteractive('df-561ab233-ae2b-41b4-a478-c98717404af5')\"\n",
              "              title=\"Convert this dataframe to an interactive table.\"\n",
              "              style=\"display:none;\">\n",
              "        \n",
              "  <svg xmlns=\"http://www.w3.org/2000/svg\" height=\"24px\"viewBox=\"0 0 24 24\"\n",
              "       width=\"24px\">\n",
              "    <path d=\"M0 0h24v24H0V0z\" fill=\"none\"/>\n",
              "    <path d=\"M18.56 5.44l.94 2.06.94-2.06 2.06-.94-2.06-.94-.94-2.06-.94 2.06-2.06.94zm-11 1L8.5 8.5l.94-2.06 2.06-.94-2.06-.94L8.5 2.5l-.94 2.06-2.06.94zm10 10l.94 2.06.94-2.06 2.06-.94-2.06-.94-.94-2.06-.94 2.06-2.06.94z\"/><path d=\"M17.41 7.96l-1.37-1.37c-.4-.4-.92-.59-1.43-.59-.52 0-1.04.2-1.43.59L10.3 9.45l-7.72 7.72c-.78.78-.78 2.05 0 2.83L4 21.41c.39.39.9.59 1.41.59.51 0 1.02-.2 1.41-.59l7.78-7.78 2.81-2.81c.8-.78.8-2.07 0-2.86zM5.41 20L4 18.59l7.72-7.72 1.47 1.35L5.41 20z\"/>\n",
              "  </svg>\n",
              "      </button>\n",
              "      \n",
              "  <style>\n",
              "    .colab-df-container {\n",
              "      display:flex;\n",
              "      flex-wrap:wrap;\n",
              "      gap: 12px;\n",
              "    }\n",
              "\n",
              "    .colab-df-convert {\n",
              "      background-color: #E8F0FE;\n",
              "      border: none;\n",
              "      border-radius: 50%;\n",
              "      cursor: pointer;\n",
              "      display: none;\n",
              "      fill: #1967D2;\n",
              "      height: 32px;\n",
              "      padding: 0 0 0 0;\n",
              "      width: 32px;\n",
              "    }\n",
              "\n",
              "    .colab-df-convert:hover {\n",
              "      background-color: #E2EBFA;\n",
              "      box-shadow: 0px 1px 2px rgba(60, 64, 67, 0.3), 0px 1px 3px 1px rgba(60, 64, 67, 0.15);\n",
              "      fill: #174EA6;\n",
              "    }\n",
              "\n",
              "    [theme=dark] .colab-df-convert {\n",
              "      background-color: #3B4455;\n",
              "      fill: #D2E3FC;\n",
              "    }\n",
              "\n",
              "    [theme=dark] .colab-df-convert:hover {\n",
              "      background-color: #434B5C;\n",
              "      box-shadow: 0px 1px 3px 1px rgba(0, 0, 0, 0.15);\n",
              "      filter: drop-shadow(0px 1px 2px rgba(0, 0, 0, 0.3));\n",
              "      fill: #FFFFFF;\n",
              "    }\n",
              "  </style>\n",
              "\n",
              "      <script>\n",
              "        const buttonEl =\n",
              "          document.querySelector('#df-561ab233-ae2b-41b4-a478-c98717404af5 button.colab-df-convert');\n",
              "        buttonEl.style.display =\n",
              "          google.colab.kernel.accessAllowed ? 'block' : 'none';\n",
              "\n",
              "        async function convertToInteractive(key) {\n",
              "          const element = document.querySelector('#df-561ab233-ae2b-41b4-a478-c98717404af5');\n",
              "          const dataTable =\n",
              "            await google.colab.kernel.invokeFunction('convertToInteractive',\n",
              "                                                     [key], {});\n",
              "          if (!dataTable) return;\n",
              "\n",
              "          const docLinkHtml = 'Like what you see? Visit the ' +\n",
              "            '<a target=\"_blank\" href=https://colab.research.google.com/notebooks/data_table.ipynb>data table notebook</a>'\n",
              "            + ' to learn more about interactive tables.';\n",
              "          element.innerHTML = '';\n",
              "          dataTable['output_type'] = 'display_data';\n",
              "          await google.colab.output.renderOutput(dataTable, element);\n",
              "          const docLink = document.createElement('div');\n",
              "          docLink.innerHTML = docLinkHtml;\n",
              "          element.appendChild(docLink);\n",
              "        }\n",
              "      </script>\n",
              "    </div>\n",
              "  </div>\n",
              "  "
            ]
          },
          "metadata": {},
          "execution_count": 10
        }
      ]
    },
    {
      "cell_type": "code",
      "source": [
        "##Statistical Information\n",
        "newdata.describe()"
      ],
      "metadata": {
        "colab": {
          "base_uri": "https://localhost:8080/",
          "height": 300
        },
        "id": "u4fmthlcsyqo",
        "outputId": "6a708dc5-670b-44b8-df57-40f5283acfd4"
      },
      "execution_count": 11,
      "outputs": [
        {
          "output_type": "execute_result",
          "data": {
            "text/plain": [
              "       Previous_Close        Open        High         Low        Volume  \\\n",
              "count      259.000000  259.000000  259.000000  259.000000  2.590000e+02   \n",
              "mean       103.762355  104.195946  106.506564  101.190927  5.093538e+07   \n",
              "std         34.817215   35.109630   35.719548   34.245809  8.265749e+07   \n",
              "min         41.650000   40.850000   44.400000   40.600000  2.788656e+06   \n",
              "25%         73.000000   73.275000   74.625000   70.325000  1.509118e+07   \n",
              "50%         94.550000   97.200000   98.500000   93.600000  2.781234e+07   \n",
              "75%        136.600000  137.025000  139.175000  133.275000  4.658320e+07   \n",
              "max        160.300000  161.150000  169.000000  154.250000  6.948953e+08   \n",
              "\n",
              "       Previous_Volume  \n",
              "count     2.580000e+02  \n",
              "mean      4.880843e+07  \n",
              "std       7.538297e+07  \n",
              "min       2.788656e+06  \n",
              "25%       1.506415e+07  \n",
              "50%       2.761068e+07  \n",
              "75%       4.622707e+07  \n",
              "max       6.948953e+08  "
            ],
            "text/html": [
              "\n",
              "  <div id=\"df-adf8c29f-5eea-4c64-8574-9a8219a6b828\">\n",
              "    <div class=\"colab-df-container\">\n",
              "      <div>\n",
              "<style scoped>\n",
              "    .dataframe tbody tr th:only-of-type {\n",
              "        vertical-align: middle;\n",
              "    }\n",
              "\n",
              "    .dataframe tbody tr th {\n",
              "        vertical-align: top;\n",
              "    }\n",
              "\n",
              "    .dataframe thead th {\n",
              "        text-align: right;\n",
              "    }\n",
              "</style>\n",
              "<table border=\"1\" class=\"dataframe\">\n",
              "  <thead>\n",
              "    <tr style=\"text-align: right;\">\n",
              "      <th></th>\n",
              "      <th>Previous_Close</th>\n",
              "      <th>Open</th>\n",
              "      <th>High</th>\n",
              "      <th>Low</th>\n",
              "      <th>Volume</th>\n",
              "      <th>Previous_Volume</th>\n",
              "    </tr>\n",
              "  </thead>\n",
              "  <tbody>\n",
              "    <tr>\n",
              "      <th>count</th>\n",
              "      <td>259.000000</td>\n",
              "      <td>259.000000</td>\n",
              "      <td>259.000000</td>\n",
              "      <td>259.000000</td>\n",
              "      <td>2.590000e+02</td>\n",
              "      <td>2.580000e+02</td>\n",
              "    </tr>\n",
              "    <tr>\n",
              "      <th>mean</th>\n",
              "      <td>103.762355</td>\n",
              "      <td>104.195946</td>\n",
              "      <td>106.506564</td>\n",
              "      <td>101.190927</td>\n",
              "      <td>5.093538e+07</td>\n",
              "      <td>4.880843e+07</td>\n",
              "    </tr>\n",
              "    <tr>\n",
              "      <th>std</th>\n",
              "      <td>34.817215</td>\n",
              "      <td>35.109630</td>\n",
              "      <td>35.719548</td>\n",
              "      <td>34.245809</td>\n",
              "      <td>8.265749e+07</td>\n",
              "      <td>7.538297e+07</td>\n",
              "    </tr>\n",
              "    <tr>\n",
              "      <th>min</th>\n",
              "      <td>41.650000</td>\n",
              "      <td>40.850000</td>\n",
              "      <td>44.400000</td>\n",
              "      <td>40.600000</td>\n",
              "      <td>2.788656e+06</td>\n",
              "      <td>2.788656e+06</td>\n",
              "    </tr>\n",
              "    <tr>\n",
              "      <th>25%</th>\n",
              "      <td>73.000000</td>\n",
              "      <td>73.275000</td>\n",
              "      <td>74.625000</td>\n",
              "      <td>70.325000</td>\n",
              "      <td>1.509118e+07</td>\n",
              "      <td>1.506415e+07</td>\n",
              "    </tr>\n",
              "    <tr>\n",
              "      <th>50%</th>\n",
              "      <td>94.550000</td>\n",
              "      <td>97.200000</td>\n",
              "      <td>98.500000</td>\n",
              "      <td>93.600000</td>\n",
              "      <td>2.781234e+07</td>\n",
              "      <td>2.761068e+07</td>\n",
              "    </tr>\n",
              "    <tr>\n",
              "      <th>75%</th>\n",
              "      <td>136.600000</td>\n",
              "      <td>137.025000</td>\n",
              "      <td>139.175000</td>\n",
              "      <td>133.275000</td>\n",
              "      <td>4.658320e+07</td>\n",
              "      <td>4.622707e+07</td>\n",
              "    </tr>\n",
              "    <tr>\n",
              "      <th>max</th>\n",
              "      <td>160.300000</td>\n",
              "      <td>161.150000</td>\n",
              "      <td>169.000000</td>\n",
              "      <td>154.250000</td>\n",
              "      <td>6.948953e+08</td>\n",
              "      <td>6.948953e+08</td>\n",
              "    </tr>\n",
              "  </tbody>\n",
              "</table>\n",
              "</div>\n",
              "      <button class=\"colab-df-convert\" onclick=\"convertToInteractive('df-adf8c29f-5eea-4c64-8574-9a8219a6b828')\"\n",
              "              title=\"Convert this dataframe to an interactive table.\"\n",
              "              style=\"display:none;\">\n",
              "        \n",
              "  <svg xmlns=\"http://www.w3.org/2000/svg\" height=\"24px\"viewBox=\"0 0 24 24\"\n",
              "       width=\"24px\">\n",
              "    <path d=\"M0 0h24v24H0V0z\" fill=\"none\"/>\n",
              "    <path d=\"M18.56 5.44l.94 2.06.94-2.06 2.06-.94-2.06-.94-.94-2.06-.94 2.06-2.06.94zm-11 1L8.5 8.5l.94-2.06 2.06-.94-2.06-.94L8.5 2.5l-.94 2.06-2.06.94zm10 10l.94 2.06.94-2.06 2.06-.94-2.06-.94-.94-2.06-.94 2.06-2.06.94z\"/><path d=\"M17.41 7.96l-1.37-1.37c-.4-.4-.92-.59-1.43-.59-.52 0-1.04.2-1.43.59L10.3 9.45l-7.72 7.72c-.78.78-.78 2.05 0 2.83L4 21.41c.39.39.9.59 1.41.59.51 0 1.02-.2 1.41-.59l7.78-7.78 2.81-2.81c.8-.78.8-2.07 0-2.86zM5.41 20L4 18.59l7.72-7.72 1.47 1.35L5.41 20z\"/>\n",
              "  </svg>\n",
              "      </button>\n",
              "      \n",
              "  <style>\n",
              "    .colab-df-container {\n",
              "      display:flex;\n",
              "      flex-wrap:wrap;\n",
              "      gap: 12px;\n",
              "    }\n",
              "\n",
              "    .colab-df-convert {\n",
              "      background-color: #E8F0FE;\n",
              "      border: none;\n",
              "      border-radius: 50%;\n",
              "      cursor: pointer;\n",
              "      display: none;\n",
              "      fill: #1967D2;\n",
              "      height: 32px;\n",
              "      padding: 0 0 0 0;\n",
              "      width: 32px;\n",
              "    }\n",
              "\n",
              "    .colab-df-convert:hover {\n",
              "      background-color: #E2EBFA;\n",
              "      box-shadow: 0px 1px 2px rgba(60, 64, 67, 0.3), 0px 1px 3px 1px rgba(60, 64, 67, 0.15);\n",
              "      fill: #174EA6;\n",
              "    }\n",
              "\n",
              "    [theme=dark] .colab-df-convert {\n",
              "      background-color: #3B4455;\n",
              "      fill: #D2E3FC;\n",
              "    }\n",
              "\n",
              "    [theme=dark] .colab-df-convert:hover {\n",
              "      background-color: #434B5C;\n",
              "      box-shadow: 0px 1px 3px 1px rgba(0, 0, 0, 0.15);\n",
              "      filter: drop-shadow(0px 1px 2px rgba(0, 0, 0, 0.3));\n",
              "      fill: #FFFFFF;\n",
              "    }\n",
              "  </style>\n",
              "\n",
              "      <script>\n",
              "        const buttonEl =\n",
              "          document.querySelector('#df-adf8c29f-5eea-4c64-8574-9a8219a6b828 button.colab-df-convert');\n",
              "        buttonEl.style.display =\n",
              "          google.colab.kernel.accessAllowed ? 'block' : 'none';\n",
              "\n",
              "        async function convertToInteractive(key) {\n",
              "          const element = document.querySelector('#df-adf8c29f-5eea-4c64-8574-9a8219a6b828');\n",
              "          const dataTable =\n",
              "            await google.colab.kernel.invokeFunction('convertToInteractive',\n",
              "                                                     [key], {});\n",
              "          if (!dataTable) return;\n",
              "\n",
              "          const docLinkHtml = 'Like what you see? Visit the ' +\n",
              "            '<a target=\"_blank\" href=https://colab.research.google.com/notebooks/data_table.ipynb>data table notebook</a>'\n",
              "            + ' to learn more about interactive tables.';\n",
              "          element.innerHTML = '';\n",
              "          dataTable['output_type'] = 'display_data';\n",
              "          await google.colab.output.renderOutput(dataTable, element);\n",
              "          const docLink = document.createElement('div');\n",
              "          docLink.innerHTML = docLinkHtml;\n",
              "          element.appendChild(docLink);\n",
              "        }\n",
              "      </script>\n",
              "    </div>\n",
              "  </div>\n",
              "  "
            ]
          },
          "metadata": {},
          "execution_count": 11
        }
      ]
    },
    {
      "cell_type": "code",
      "source": [
        "#drop null values\n",
        "newdata=newdata.dropna()\n"
      ],
      "metadata": {
        "id": "TghrWPXPs8R_"
      },
      "execution_count": 12,
      "outputs": []
    },
    {
      "cell_type": "code",
      "source": [
        "newdata.isnull().sum()"
      ],
      "metadata": {
        "colab": {
          "base_uri": "https://localhost:8080/"
        },
        "id": "qraxO5fQx-Kl",
        "outputId": "62846f36-ee32-4812-dedc-ea01447354d0"
      },
      "execution_count": 13,
      "outputs": [
        {
          "output_type": "execute_result",
          "data": {
            "text/plain": [
              "Previous_Close     0\n",
              "Open               0\n",
              "High               0\n",
              "Low                0\n",
              "Volume             0\n",
              "Previous_Volume    0\n",
              "dtype: int64"
            ]
          },
          "metadata": {},
          "execution_count": 13
        }
      ]
    },
    {
      "cell_type": "markdown",
      "source": [
        "# Explore Data :"
      ],
      "metadata": {
        "id": "NitgLh4ryMfs"
      }
    },
    {
      "cell_type": "code",
      "source": [
        "import seaborn as sns\n",
        "import matplotlib.pyplot as plt\n",
        "%matplotlib inline"
      ],
      "metadata": {
        "id": "NWAtpDRwyHRW"
      },
      "execution_count": 14,
      "outputs": []
    },
    {
      "cell_type": "code",
      "source": [
        "#Finding Outliers (An outlier is an observation of a data point that lies an abnormal distance from other values in a given population)\n",
        "sns.boxplot(newdata['Previous_Volume'])\n",
        "plt.show()"
      ],
      "metadata": {
        "colab": {
          "base_uri": "https://localhost:8080/",
          "height": 335
        },
        "id": "qoa5LdfByfu2",
        "outputId": "043b16a9-9297-4eb8-912e-ce64d4b45fe2"
      },
      "execution_count": 15,
      "outputs": [
        {
          "output_type": "stream",
          "name": "stderr",
          "text": [
            "/usr/local/lib/python3.7/dist-packages/seaborn/_decorators.py:43: FutureWarning: Pass the following variable as a keyword arg: x. From version 0.12, the only valid positional argument will be `data`, and passing other arguments without an explicit keyword will result in an error or misinterpretation.\n",
            "  FutureWarning\n"
          ]
        },
        {
          "output_type": "display_data",
          "data": {
            "text/plain": [
              "<Figure size 432x288 with 1 Axes>"
            ],
            "image/png": "[encoded data removed]"
          },
          "metadata": {
            "needs_background": "light"
          }
        }
      ]
    },
    {
      "cell_type": "code",
      "source": [
        ""
      ],
      "metadata": {
        "id": "jAgOcFFupD2-"
      },
      "execution_count": null,
      "outputs": []
    },
    {
      "cell_type": "markdown",
      "source": [
        "IQR=*Q3*-Q1 (Interquartile range)\n"
      ],
      "metadata": {
        "id": "Fcdxs5lc1Jgu"
      }
    },
    {
      "cell_type": "code",
      "source": [
        "#To Remove this Outliers\n",
        "\n",
        "q1=newdata['Previous_Volume'].quantile(.25)\n",
        "q3=newdata['Previous_Volume'].quantile(.75)\n",
        "\n",
        "iqr=q3-q1\n",
        "\n",
        "iqr\n",
        "\n"
      ],
      "metadata": {
        "id": "sI6VHx5QzBjA",
        "colab": {
          "base_uri": "https://localhost:8080/"
        },
        "outputId": "21620348-4dc5-4806-d5da-956065c9fcc2"
      },
      "execution_count": 16,
      "outputs": [
        {
          "output_type": "execute_result",
          "data": {
            "text/plain": [
              "31162918.0"
            ]
          },
          "metadata": {},
          "execution_count": 16
        }
      ]
    },
    {
      "cell_type": "code",
      "source": [
        "q1"
      ],
      "metadata": {
        "id": "Wr0B9YU_1jLl",
        "colab": {
          "base_uri": "https://localhost:8080/"
        },
        "outputId": "6ff7ccec-b169-4cdf-9aa8-b21f7a86c980"
      },
      "execution_count": 17,
      "outputs": [
        {
          "output_type": "execute_result",
          "data": {
            "text/plain": [
              "15064151.25"
            ]
          },
          "metadata": {},
          "execution_count": 17
        }
      ]
    },
    {
      "cell_type": "code",
      "source": [
        "q3"
      ],
      "metadata": {
        "id": "bWQHJYXT1lET",
        "colab": {
          "base_uri": "https://localhost:8080/"
        },
        "outputId": "fa9dc727-afae-4414-bf27-9048ef7e33f7"
      },
      "execution_count": 18,
      "outputs": [
        {
          "output_type": "execute_result",
          "data": {
            "text/plain": [
              "46227069.25"
            ]
          },
          "metadata": {},
          "execution_count": 18
        }
      ]
    },
    {
      "cell_type": "code",
      "source": [
        "TopRange=q3+iqr*1.5\n",
        "print(TopRange)\n",
        "ButtomRange=q1+iqr*1.5\n",
        "print(ButtomRange)"
      ],
      "metadata": {
        "id": "2HKe-FUf1mn7",
        "colab": {
          "base_uri": "https://localhost:8080/"
        },
        "outputId": "6605732c-02ac-4852-d697-e1c0aa56b8d7"
      },
      "execution_count": 20,
      "outputs": [
        {
          "output_type": "stream",
          "name": "stdout",
          "text": [
            "92971446.25\n",
            "61808528.25\n"
          ]
        }
      ]
    },
    {
      "cell_type": "code",
      "source": [
        "Data=newdata"
      ],
      "metadata": {
        "id": "-3Hwnl3v2AHk"
      },
      "execution_count": 22,
      "outputs": []
    },
    {
      "cell_type": "code",
      "source": [
        "Data[Data['Previous_Volume']> TopRange]"
      ],
      "metadata": {
        "id": "NZPS7TMN2QA0",
        "colab": {
          "base_uri": "https://localhost:8080/",
          "height": 1000
        },
        "outputId": "10650938-0cbc-4817-c32b-fe64b73886b0"
      },
      "execution_count": 51,
      "outputs": [
        {
          "output_type": "execute_result",
          "data": {
            "text/plain": [
              "     Previous_Close    Open    High     Low     Volume  Previous_Volume\n",
              "1            126.00  126.35  143.75  125.30  249723854      694895290.0\n",
              "2            140.65  141.70  147.80  127.75  240341900      249723854.0\n",
              "3            132.90  131.00  135.00  123.55  159793731      240341900.0\n",
              "4            131.20  134.95  144.00  132.20  117973089      159793731.0\n",
              "5            141.55  142.60  142.70  131.00   88312522      117973089.0\n",
              "14           135.65  135.65  137.40  132.05   51256670      111702781.0\n",
              "30           149.75  149.25  149.35  143.25   34811620      113381518.0\n",
              "36           144.10  142.95  145.00  140.75   38892545      112358935.0\n",
              "77           153.00  149.00  163.30  142.35  121197599      140547798.0\n",
              "78           160.30  161.15  169.00  153.80  109342731      121197599.0\n",
              "79           157.60  155.95  162.25  154.25   44505156      109342731.0\n",
              "88           152.55  153.00  157.90  149.45   32604856      258130152.0\n",
              "101          135.35  135.30  135.75  124.60   36064413       95386202.0\n",
              "127           91.35   90.95  100.45   84.15  138336211      167044739.0\n",
              "128          100.45   98.00   98.00   90.45  106488772      138336211.0\n",
              "129           90.50   93.60   96.45   88.80   61452438      106488772.0\n",
              "142           82.70   85.00   87.00   84.25   33106605      106216252.0\n",
              "198           54.20   53.80   53.90   51.05   37338266       99812774.0\n",
              "207           64.95   65.70   66.90   60.65  104446924      193577787.0\n",
              "208           62.30   61.00   62.50   59.60   46556399      104446924.0\n",
              "211           71.05   68.50   77.70   67.40  184333915      124103679.0\n",
              "212           74.65   75.40   79.80   73.10  127949782      184333915.0\n",
              "213           74.70   74.40   74.40   71.40   47866809      127949782.0\n",
              "231           65.85   65.70   65.70   59.65  120959477      110751340.0\n",
              "232           60.30   58.75   61.45   56.85   96955320      120959477.0\n",
              "233           57.30   57.80   59.00   53.35  106893631       96955320.0\n",
              "234           53.85   54.15   56.70   52.55  112078641      106893631.0\n",
              "235           56.15   54.50   55.80   53.30   56902459      112078641.0\n",
              "252           47.60   46.60   46.65   41.20  412304737      232841112.0\n",
              "253           41.65   40.85   44.40   40.60  411205172      412304737.0\n",
              "254           43.95   44.90   46.30   43.05  267544569      411205172.0\n",
              "255           45.70   45.60   47.20   44.55  177187972      267544569.0\n",
              "256           46.80   46.80   47.25   45.05  135944043      177187972.0\n",
              "257           46.30   50.00   55.55   48.40  528899748      135944043.0\n",
              "258           55.55   52.50   56.90   51.75  599688336      528899748.0"
            ],
            "text/html": [
              "\n",
              "  <div id=\"df-9d84fb5d-10d9-4a23-9b45-db546b05e547\">\n",
              "    <div class=\"colab-df-container\">\n",
              "      <div>\n",
              "<style scoped>\n",
              "    .dataframe tbody tr th:only-of-type {\n",
              "        vertical-align: middle;\n",
              "    }\n",
              "\n",
              "    .dataframe tbody tr th {\n",
              "        vertical-align: top;\n",
              "    }\n",
              "\n",
              "    .dataframe thead th {\n",
              "        text-align: right;\n",
              "    }\n",
              "</style>\n",
              "<table border=\"1\" class=\"dataframe\">\n",
              "  <thead>\n",
              "    <tr style=\"text-align: right;\">\n",
              "      <th></th>\n",
              "      <th>Previous_Close</th>\n",
              "      <th>Open</th>\n",
              "      <th>High</th>\n",
              "      <th>Low</th>\n",
              "      <th>Volume</th>\n",
              "      <th>Previous_Volume</th>\n",
              "    </tr>\n",
              "  </thead>\n",
              "  <tbody>\n",
              "    <tr>\n",
              "      <th>1</th>\n",
              "      <td>126.00</td>\n",
              "      <td>126.35</td>\n",
              "      <td>143.75</td>\n",
              "      <td>125.30</td>\n",
              "      <td>249723854</td>\n",
              "      <td>694895290.0</td>\n",
              "    </tr>\n",
              "    <tr>\n",
              "      <th>2</th>\n",
              "      <td>140.65</td>\n",
              "      <td>141.70</td>\n",
              "      <td>147.80</td>\n",
              "      <td>127.75</td>\n",
              "      <td>240341900</td>\n",
              "      <td>249723854.0</td>\n",
              "    </tr>\n",
              "    <tr>\n",
              "      <th>3</th>\n",
              "      <td>132.90</td>\n",
              "      <td>131.00</td>\n",
              "      <td>135.00</td>\n",
              "      <td>123.55</td>\n",
              "      <td>159793731</td>\n",
              "      <td>240341900.0</td>\n",
              "    </tr>\n",
              "    <tr>\n",
              "      <th>4</th>\n",
              "      <td>131.20</td>\n",
              "      <td>134.95</td>\n",
              "      <td>144.00</td>\n",
              "      <td>132.20</td>\n",
              "      <td>117973089</td>\n",
              "      <td>159793731.0</td>\n",
              "    </tr>\n",
              "    <tr>\n",
              "      <th>5</th>\n",
              "      <td>141.55</td>\n",
              "      <td>142.60</td>\n",
              "      <td>142.70</td>\n",
              "      <td>131.00</td>\n",
              "      <td>88312522</td>\n",
              "      <td>117973089.0</td>\n",
              "    </tr>\n",
              "    <tr>\n",
              "      <th>14</th>\n",
              "      <td>135.65</td>\n",
              "      <td>135.65</td>\n",
              "      <td>137.40</td>\n",
              "      <td>132.05</td>\n",
              "      <td>51256670</td>\n",
              "      <td>111702781.0</td>\n",
              "    </tr>\n",
              "    <tr>\n",
              "      <th>30</th>\n",
              "      <td>149.75</td>\n",
              "      <td>149.25</td>\n",
              "      <td>149.35</td>\n",
              "      <td>143.25</td>\n",
              "      <td>34811620</td>\n",
              "      <td>113381518.0</td>\n",
              "    </tr>\n",
              "    <tr>\n",
              "      <th>36</th>\n",
              "      <td>144.10</td>\n",
              "      <td>142.95</td>\n",
              "      <td>145.00</td>\n",
              "      <td>140.75</td>\n",
              "      <td>38892545</td>\n",
              "      <td>112358935.0</td>\n",
              "    </tr>\n",
              "    <tr>\n",
              "      <th>77</th>\n",
              "      <td>153.00</td>\n",
              "      <td>149.00</td>\n",
              "      <td>163.30</td>\n",
              "      <td>142.35</td>\n",
              "      <td>121197599</td>\n",
              "      <td>140547798.0</td>\n",
              "    </tr>\n",
              "    <tr>\n",
              "      <th>78</th>\n",
              "      <td>160.30</td>\n",
              "      <td>161.15</td>\n",
              "      <td>169.00</td>\n",
              "      <td>153.80</td>\n",
              "      <td>109342731</td>\n",
              "      <td>121197599.0</td>\n",
              "    </tr>\n",
              "    <tr>\n",
              "      <th>79</th>\n",
              "      <td>157.60</td>\n",
              "      <td>155.95</td>\n",
              "      <td>162.25</td>\n",
              "      <td>154.25</td>\n",
              "      <td>44505156</td>\n",
              "      <td>109342731.0</td>\n",
              "    </tr>\n",
              "    <tr>\n",
              "      <th>88</th>\n",
              "      <td>152.55</td>\n",
              "      <td>153.00</td>\n",
              "      <td>157.90</td>\n",
              "      <td>149.45</td>\n",
              "      <td>32604856</td>\n",
              "      <td>258130152.0</td>\n",
              "    </tr>\n",
              "    <tr>\n",
              "      <th>101</th>\n",
              "      <td>135.35</td>\n",
              "      <td>135.30</td>\n",
              "      <td>135.75</td>\n",
              "      <td>124.60</td>\n",
              "      <td>36064413</td>\n",
              "      <td>95386202.0</td>\n",
              "    </tr>\n",
              "    <tr>\n",
              "      <th>127</th>\n",
              "      <td>91.35</td>\n",
              "      <td>90.95</td>\n",
              "      <td>100.45</td>\n",
              "      <td>84.15</td>\n",
              "      <td>138336211</td>\n",
              "      <td>167044739.0</td>\n",
              "    </tr>\n",
              "    <tr>\n",
              "      <th>128</th>\n",
              "      <td>100.45</td>\n",
              "      <td>98.00</td>\n",
              "      <td>98.00</td>\n",
              "      <td>90.45</td>\n",
              "      <td>106488772</td>\n",
              "      <td>138336211.0</td>\n",
              "    </tr>\n",
              "    <tr>\n",
              "      <th>129</th>\n",
              "      <td>90.50</td>\n",
              "      <td>93.60</td>\n",
              "      <td>96.45</td>\n",
              "      <td>88.80</td>\n",
              "      <td>61452438</td>\n",
              "      <td>106488772.0</td>\n",
              "    </tr>\n",
              "    <tr>\n",
              "      <th>142</th>\n",
              "      <td>82.70</td>\n",
              "      <td>85.00</td>\n",
              "      <td>87.00</td>\n",
              "      <td>84.25</td>\n",
              "      <td>33106605</td>\n",
              "      <td>106216252.0</td>\n",
              "    </tr>\n",
              "    <tr>\n",
              "      <th>198</th>\n",
              "      <td>54.20</td>\n",
              "      <td>53.80</td>\n",
              "      <td>53.90</td>\n",
              "      <td>51.05</td>\n",
              "      <td>37338266</td>\n",
              "      <td>99812774.0</td>\n",
              "    </tr>\n",
              "    <tr>\n",
              "      <th>207</th>\n",
              "      <td>64.95</td>\n",
              "      <td>65.70</td>\n",
              "      <td>66.90</td>\n",
              "      <td>60.65</td>\n",
              "      <td>104446924</td>\n",
              "      <td>193577787.0</td>\n",
              "    </tr>\n",
              "    <tr>\n",
              "      <th>208</th>\n",
              "      <td>62.30</td>\n",
              "      <td>61.00</td>\n",
              "      <td>62.50</td>\n",
              "      <td>59.60</td>\n",
              "      <td>46556399</td>\n",
              "      <td>104446924.0</td>\n",
              "    </tr>\n",
              "    <tr>\n",
              "      <th>211</th>\n",
              "      <td>71.05</td>\n",
              "      <td>68.50</td>\n",
              "      <td>77.70</td>\n",
              "      <td>67.40</td>\n",
              "      <td>184333915</td>\n",
              "      <td>124103679.0</td>\n",
              "    </tr>\n",
              "    <tr>\n",
              "      <th>212</th>\n",
              "      <td>74.65</td>\n",
              "      <td>75.40</td>\n",
              "      <td>79.80</td>\n",
              "      <td>73.10</td>\n",
              "      <td>127949782</td>\n",
              "      <td>184333915.0</td>\n",
              "    </tr>\n",
              "    <tr>\n",
              "      <th>213</th>\n",
              "      <td>74.70</td>\n",
              "      <td>74.40</td>\n",
              "      <td>74.40</td>\n",
              "      <td>71.40</td>\n",
              "      <td>47866809</td>\n",
              "      <td>127949782.0</td>\n",
              "    </tr>\n",
              "    <tr>\n",
              "      <th>231</th>\n",
              "      <td>65.85</td>\n",
              "      <td>65.70</td>\n",
              "      <td>65.70</td>\n",
              "      <td>59.65</td>\n",
              "      <td>120959477</td>\n",
              "      <td>110751340.0</td>\n",
              "    </tr>\n",
              "    <tr>\n",
              "      <th>232</th>\n",
              "      <td>60.30</td>\n",
              "      <td>58.75</td>\n",
              "      <td>61.45</td>\n",
              "      <td>56.85</td>\n",
              "      <td>96955320</td>\n",
              "      <td>120959477.0</td>\n",
              "    </tr>\n",
              "    <tr>\n",
              "      <th>233</th>\n",
              "      <td>57.30</td>\n",
              "      <td>57.80</td>\n",
              "      <td>59.00</td>\n",
              "      <td>53.35</td>\n",
              "      <td>106893631</td>\n",
              "      <td>96955320.0</td>\n",
              "    </tr>\n",
              "    <tr>\n",
              "      <th>234</th>\n",
              "      <td>53.85</td>\n",
              "      <td>54.15</td>\n",
              "      <td>56.70</td>\n",
              "      <td>52.55</td>\n",
              "      <td>112078641</td>\n",
              "      <td>106893631.0</td>\n",
              "    </tr>\n",
              "    <tr>\n",
              "      <th>235</th>\n",
              "      <td>56.15</td>\n",
              "      <td>54.50</td>\n",
              "      <td>55.80</td>\n",
              "      <td>53.30</td>\n",
              "      <td>56902459</td>\n",
              "      <td>112078641.0</td>\n",
              "    </tr>\n",
              "    <tr>\n",
              "      <th>252</th>\n",
              "      <td>47.60</td>\n",
              "      <td>46.60</td>\n",
              "      <td>46.65</td>\n",
              "      <td>41.20</td>\n",
              "      <td>412304737</td>\n",
              "      <td>232841112.0</td>\n",
              "    </tr>\n",
              "    <tr>\n",
              "      <th>253</th>\n",
              "      <td>41.65</td>\n",
              "      <td>40.85</td>\n",
              "      <td>44.40</td>\n",
              "      <td>40.60</td>\n",
              "      <td>411205172</td>\n",
              "      <td>412304737.0</td>\n",
              "    </tr>\n",
              "    <tr>\n",
              "      <th>254</th>\n",
              "      <td>43.95</td>\n",
              "      <td>44.90</td>\n",
              "      <td>46.30</td>\n",
              "      <td>43.05</td>\n",
              "      <td>267544569</td>\n",
              "      <td>411205172.0</td>\n",
              "    </tr>\n",
              "    <tr>\n",
              "      <th>255</th>\n",
              "      <td>45.70</td>\n",
              "      <td>45.60</td>\n",
              "      <td>47.20</td>\n",
              "      <td>44.55</td>\n",
              "      <td>177187972</td>\n",
              "      <td>267544569.0</td>\n",
              "    </tr>\n",
              "    <tr>\n",
              "      <th>256</th>\n",
              "      <td>46.80</td>\n",
              "      <td>46.80</td>\n",
              "      <td>47.25</td>\n",
              "      <td>45.05</td>\n",
              "      <td>135944043</td>\n",
              "      <td>177187972.0</td>\n",
              "    </tr>\n",
              "    <tr>\n",
              "      <th>257</th>\n",
              "      <td>46.30</td>\n",
              "      <td>50.00</td>\n",
              "      <td>55.55</td>\n",
              "      <td>48.40</td>\n",
              "      <td>528899748</td>\n",
              "      <td>135944043.0</td>\n",
              "    </tr>\n",
              "    <tr>\n",
              "      <th>258</th>\n",
              "      <td>55.55</td>\n",
              "      <td>52.50</td>\n",
              "      <td>56.90</td>\n",
              "      <td>51.75</td>\n",
              "      <td>599688336</td>\n",
              "      <td>528899748.0</td>\n",
              "    </tr>\n",
              "  </tbody>\n",
              "</table>\n",
              "</div>\n",
              "      <button class=\"colab-df-convert\" onclick=\"convertToInteractive('df-9d84fb5d-10d9-4a23-9b45-db546b05e547')\"\n",
              "              title=\"Convert this dataframe to an interactive table.\"\n",
              "              style=\"display:none;\">\n",
              "        \n",
              "  <svg xmlns=\"http://www.w3.org/2000/svg\" height=\"24px\"viewBox=\"0 0 24 24\"\n",
              "       width=\"24px\">\n",
              "    <path d=\"M0 0h24v24H0V0z\" fill=\"none\"/>\n",
              "    <path d=\"M18.56 5.44l.94 2.06.94-2.06 2.06-.94-2.06-.94-.94-2.06-.94 2.06-2.06.94zm-11 1L8.5 8.5l.94-2.06 2.06-.94-2.06-.94L8.5 2.5l-.94 2.06-2.06.94zm10 10l.94 2.06.94-2.06 2.06-.94-2.06-.94-.94-2.06-.94 2.06-2.06.94z\"/><path d=\"M17.41 7.96l-1.37-1.37c-.4-.4-.92-.59-1.43-.59-.52 0-1.04.2-1.43.59L10.3 9.45l-7.72 7.72c-.78.78-.78 2.05 0 2.83L4 21.41c.39.39.9.59 1.41.59.51 0 1.02-.2 1.41-.59l7.78-7.78 2.81-2.81c.8-.78.8-2.07 0-2.86zM5.41 20L4 18.59l7.72-7.72 1.47 1.35L5.41 20z\"/>\n",
              "  </svg>\n",
              "      </button>\n",
              "      \n",
              "  <style>\n",
              "    .colab-df-container {\n",
              "      display:flex;\n",
              "      flex-wrap:wrap;\n",
              "      gap: 12px;\n",
              "    }\n",
              "\n",
              "    .colab-df-convert {\n",
              "      background-color: #E8F0FE;\n",
              "      border: none;\n",
              "      border-radius: 50%;\n",
              "      cursor: pointer;\n",
              "      display: none;\n",
              "      fill: #1967D2;\n",
              "      height: 32px;\n",
              "      padding: 0 0 0 0;\n",
              "      width: 32px;\n",
              "    }\n",
              "\n",
              "    .colab-df-convert:hover {\n",
              "      background-color: #E2EBFA;\n",
              "      box-shadow: 0px 1px 2px rgba(60, 64, 67, 0.3), 0px 1px 3px 1px rgba(60, 64, 67, 0.15);\n",
              "      fill: #174EA6;\n",
              "    }\n",
              "\n",
              "    [theme=dark] .colab-df-convert {\n",
              "      background-color: #3B4455;\n",
              "      fill: #D2E3FC;\n",
              "    }\n",
              "\n",
              "    [theme=dark] .colab-df-convert:hover {\n",
              "      background-color: #434B5C;\n",
              "      box-shadow: 0px 1px 3px 1px rgba(0, 0, 0, 0.15);\n",
              "      filter: drop-shadow(0px 1px 2px rgba(0, 0, 0, 0.3));\n",
              "      fill: #FFFFFF;\n",
              "    }\n",
              "  </style>\n",
              "\n",
              "      <script>\n",
              "        const buttonEl =\n",
              "          document.querySelector('#df-9d84fb5d-10d9-4a23-9b45-db546b05e547 button.colab-df-convert');\n",
              "        buttonEl.style.display =\n",
              "          google.colab.kernel.accessAllowed ? 'block' : 'none';\n",
              "\n",
              "        async function convertToInteractive(key) {\n",
              "          const element = document.querySelector('#df-9d84fb5d-10d9-4a23-9b45-db546b05e547');\n",
              "          const dataTable =\n",
              "            await google.colab.kernel.invokeFunction('convertToInteractive',\n",
              "                                                     [key], {});\n",
              "          if (!dataTable) return;\n",
              "\n",
              "          const docLinkHtml = 'Like what you see? Visit the ' +\n",
              "            '<a target=\"_blank\" href=https://colab.research.google.com/notebooks/data_table.ipynb>data table notebook</a>'\n",
              "            + ' to learn more about interactive tables.';\n",
              "          element.innerHTML = '';\n",
              "          dataTable['output_type'] = 'display_data';\n",
              "          await google.colab.output.renderOutput(dataTable, element);\n",
              "          const docLink = document.createElement('div');\n",
              "          docLink.innerHTML = docLinkHtml;\n",
              "          element.appendChild(docLink);\n",
              "        }\n",
              "      </script>\n",
              "    </div>\n",
              "  </div>\n",
              "  "
            ]
          },
          "metadata": {},
          "execution_count": 51
        }
      ]
    },
    {
      "cell_type": "code",
      "source": [
        "Data[Data['Previous_Volume']< ButtomRange]"
      ],
      "metadata": {
        "id": "ENbNNnP92xHy",
        "colab": {
          "base_uri": "https://localhost:8080/",
          "height": 424
        },
        "outputId": "eef72f57-20fc-46ff-f2a9-9373a4067596"
      },
      "execution_count": 50,
      "outputs": [
        {
          "output_type": "execute_result",
          "data": {
            "text/plain": [
              "     Previous_Close    Open    High     Low     Volume  Previous_Volume\n",
              "8            139.40  139.80  141.00  135.25   41134419       46610001.0\n",
              "9            138.40  138.75  138.90  132.00   38437134       41134419.0\n",
              "10           134.95  135.50  136.20  130.10   31975356       38437134.0\n",
              "11           131.35  132.40  133.55  127.25   41358299       31975356.0\n",
              "12           130.60  131.00  131.45  122.10   43164004       41358299.0\n",
              "..              ...     ...     ...     ...        ...              ...\n",
              "247           53.95   54.50   54.50   53.20   37683099       35427093.0\n",
              "248           53.40   53.35   54.45   52.70   29402446       37683099.0\n",
              "249           53.50   53.75   54.00   52.90   27302087       29402446.0\n",
              "250           76.00   53.65   53.65   53.65    2788656       27302087.0\n",
              "251           53.65   52.50   52.50   46.00  232841112        2788656.0\n",
              "\n",
              "[215 rows x 6 columns]"
            ],
            "text/html": [
              "\n",
              "  <div id=\"df-db47f94b-cfc7-41fe-bbdc-7f2c2b0e14cc\">\n",
              "    <div class=\"colab-df-container\">\n",
              "      <div>\n",
              "<style scoped>\n",
              "    .dataframe tbody tr th:only-of-type {\n",
              "        vertical-align: middle;\n",
              "    }\n",
              "\n",
              "    .dataframe tbody tr th {\n",
              "        vertical-align: top;\n",
              "    }\n",
              "\n",
              "    .dataframe thead th {\n",
              "        text-align: right;\n",
              "    }\n",
              "</style>\n",
              "<table border=\"1\" class=\"dataframe\">\n",
              "  <thead>\n",
              "    <tr style=\"text-align: right;\">\n",
              "      <th></th>\n",
              "      <th>Previous_Close</th>\n",
              "      <th>Open</th>\n",
              "      <th>High</th>\n",
              "      <th>Low</th>\n",
              "      <th>Volume</th>\n",
              "      <th>Previous_Volume</th>\n",
              "    </tr>\n",
              "  </thead>\n",
              "  <tbody>\n",
              "    <tr>\n",
              "      <th>8</th>\n",
              "      <td>139.40</td>\n",
              "      <td>139.80</td>\n",
              "      <td>141.00</td>\n",
              "      <td>135.25</td>\n",
              "      <td>41134419</td>\n",
              "      <td>46610001.0</td>\n",
              "    </tr>\n",
              "    <tr>\n",
              "      <th>9</th>\n",
              "      <td>138.40</td>\n",
              "      <td>138.75</td>\n",
              "      <td>138.90</td>\n",
              "      <td>132.00</td>\n",
              "      <td>38437134</td>\n",
              "      <td>41134419.0</td>\n",
              "    </tr>\n",
              "    <tr>\n",
              "      <th>10</th>\n",
              "      <td>134.95</td>\n",
              "      <td>135.50</td>\n",
              "      <td>136.20</td>\n",
              "      <td>130.10</td>\n",
              "      <td>31975356</td>\n",
              "      <td>38437134.0</td>\n",
              "    </tr>\n",
              "    <tr>\n",
              "      <th>11</th>\n",
              "      <td>131.35</td>\n",
              "      <td>132.40</td>\n",
              "      <td>133.55</td>\n",
              "      <td>127.25</td>\n",
              "      <td>41358299</td>\n",
              "      <td>31975356.0</td>\n",
              "    </tr>\n",
              "    <tr>\n",
              "      <th>12</th>\n",
              "      <td>130.60</td>\n",
              "      <td>131.00</td>\n",
              "      <td>131.45</td>\n",
              "      <td>122.10</td>\n",
              "      <td>43164004</td>\n",
              "      <td>41358299.0</td>\n",
              "    </tr>\n",
              "    <tr>\n",
              "      <th>...</th>\n",
              "      <td>...</td>\n",
              "      <td>...</td>\n",
              "      <td>...</td>\n",
              "      <td>...</td>\n",
              "      <td>...</td>\n",
              "      <td>...</td>\n",
              "    </tr>\n",
              "    <tr>\n",
              "      <th>247</th>\n",
              "      <td>53.95</td>\n",
              "      <td>54.50</td>\n",
              "      <td>54.50</td>\n",
              "      <td>53.20</td>\n",
              "      <td>37683099</td>\n",
              "      <td>35427093.0</td>\n",
              "    </tr>\n",
              "    <tr>\n",
              "      <th>248</th>\n",
              "      <td>53.40</td>\n",
              "      <td>53.35</td>\n",
              "      <td>54.45</td>\n",
              "      <td>52.70</td>\n",
              "      <td>29402446</td>\n",
              "      <td>37683099.0</td>\n",
              "    </tr>\n",
              "    <tr>\n",
              "      <th>249</th>\n",
              "      <td>53.50</td>\n",
              "      <td>53.75</td>\n",
              "      <td>54.00</td>\n",
              "      <td>52.90</td>\n",
              "      <td>27302087</td>\n",
              "      <td>29402446.0</td>\n",
              "    </tr>\n",
              "    <tr>\n",
              "      <th>250</th>\n",
              "      <td>76.00</td>\n",
              "      <td>53.65</td>\n",
              "      <td>53.65</td>\n",
              "      <td>53.65</td>\n",
              "      <td>2788656</td>\n",
              "      <td>27302087.0</td>\n",
              "    </tr>\n",
              "    <tr>\n",
              "      <th>251</th>\n",
              "      <td>53.65</td>\n",
              "      <td>52.50</td>\n",
              "      <td>52.50</td>\n",
              "      <td>46.00</td>\n",
              "      <td>232841112</td>\n",
              "      <td>2788656.0</td>\n",
              "    </tr>\n",
              "  </tbody>\n",
              "</table>\n",
              "<p>215 rows × 6 columns</p>\n",
              "</div>\n",
              "      <button class=\"colab-df-convert\" onclick=\"convertToInteractive('df-db47f94b-cfc7-41fe-bbdc-7f2c2b0e14cc')\"\n",
              "              title=\"Convert this dataframe to an interactive table.\"\n",
              "              style=\"display:none;\">\n",
              "        \n",
              "  <svg xmlns=\"http://www.w3.org/2000/svg\" height=\"24px\"viewBox=\"0 0 24 24\"\n",
              "       width=\"24px\">\n",
              "    <path d=\"M0 0h24v24H0V0z\" fill=\"none\"/>\n",
              "    <path d=\"M18.56 5.44l.94 2.06.94-2.06 2.06-.94-2.06-.94-.94-2.06-.94 2.06-2.06.94zm-11 1L8.5 8.5l.94-2.06 2.06-.94-2.06-.94L8.5 2.5l-.94 2.06-2.06.94zm10 10l.94 2.06.94-2.06 2.06-.94-2.06-.94-.94-2.06-.94 2.06-2.06.94z\"/><path d=\"M17.41 7.96l-1.37-1.37c-.4-.4-.92-.59-1.43-.59-.52 0-1.04.2-1.43.59L10.3 9.45l-7.72 7.72c-.78.78-.78 2.05 0 2.83L4 21.41c.39.39.9.59 1.41.59.51 0 1.02-.2 1.41-.59l7.78-7.78 2.81-2.81c.8-.78.8-2.07 0-2.86zM5.41 20L4 18.59l7.72-7.72 1.47 1.35L5.41 20z\"/>\n",
              "  </svg>\n",
              "      </button>\n",
              "      \n",
              "  <style>\n",
              "    .colab-df-container {\n",
              "      display:flex;\n",
              "      flex-wrap:wrap;\n",
              "      gap: 12px;\n",
              "    }\n",
              "\n",
              "    .colab-df-convert {\n",
              "      background-color: #E8F0FE;\n",
              "      border: none;\n",
              "      border-radius: 50%;\n",
              "      cursor: pointer;\n",
              "      display: none;\n",
              "      fill: #1967D2;\n",
              "      height: 32px;\n",
              "      padding: 0 0 0 0;\n",
              "      width: 32px;\n",
              "    }\n",
              "\n",
              "    .colab-df-convert:hover {\n",
              "      background-color: #E2EBFA;\n",
              "      box-shadow: 0px 1px 2px rgba(60, 64, 67, 0.3), 0px 1px 3px 1px rgba(60, 64, 67, 0.15);\n",
              "      fill: #174EA6;\n",
              "    }\n",
              "\n",
              "    [theme=dark] .colab-df-convert {\n",
              "      background-color: #3B4455;\n",
              "      fill: #D2E3FC;\n",
              "    }\n",
              "\n",
              "    [theme=dark] .colab-df-convert:hover {\n",
              "      background-color: #434B5C;\n",
              "      box-shadow: 0px 1px 3px 1px rgba(0, 0, 0, 0.15);\n",
              "      filter: drop-shadow(0px 1px 2px rgba(0, 0, 0, 0.3));\n",
              "      fill: #FFFFFF;\n",
              "    }\n",
              "  </style>\n",
              "\n",
              "      <script>\n",
              "        const buttonEl =\n",
              "          document.querySelector('#df-db47f94b-cfc7-41fe-bbdc-7f2c2b0e14cc button.colab-df-convert');\n",
              "        buttonEl.style.display =\n",
              "          google.colab.kernel.accessAllowed ? 'block' : 'none';\n",
              "\n",
              "        async function convertToInteractive(key) {\n",
              "          const element = document.querySelector('#df-db47f94b-cfc7-41fe-bbdc-7f2c2b0e14cc');\n",
              "          const dataTable =\n",
              "            await google.colab.kernel.invokeFunction('convertToInteractive',\n",
              "                                                     [key], {});\n",
              "          if (!dataTable) return;\n",
              "\n",
              "          const docLinkHtml = 'Like what you see? Visit the ' +\n",
              "            '<a target=\"_blank\" href=https://colab.research.google.com/notebooks/data_table.ipynb>data table notebook</a>'\n",
              "            + ' to learn more about interactive tables.';\n",
              "          element.innerHTML = '';\n",
              "          dataTable['output_type'] = 'display_data';\n",
              "          await google.colab.output.renderOutput(dataTable, element);\n",
              "          const docLink = document.createElement('div');\n",
              "          docLink.innerHTML = docLinkHtml;\n",
              "          element.appendChild(docLink);\n",
              "        }\n",
              "      </script>\n",
              "    </div>\n",
              "  </div>\n",
              "  "
            ]
          },
          "metadata": {},
          "execution_count": 50
        }
      ]
    },
    {
      "cell_type": "code",
      "source": [
        "DF=Data[Data['Previous_Volume']< TopRange] \n",
        "DF2=Data[Data['Previous_Volume']> ButtomRange]"
      ],
      "metadata": {
        "id": "Y5RNxlE726nN"
      },
      "execution_count": 52,
      "outputs": []
    },
    {
      "cell_type": "code",
      "source": [
        "NewData=pd.concat([DF,DF2],axis=0)"
      ],
      "metadata": {
        "id": "fugLM4NF29G7"
      },
      "execution_count": 53,
      "outputs": []
    },
    {
      "cell_type": "code",
      "source": [
        "NewData.shape"
      ],
      "metadata": {
        "colab": {
          "base_uri": "https://localhost:8080/"
        },
        "id": "CaPfAsbF9Gwz",
        "outputId": "e594422d-0253-46c9-c3ff-d80f78389edf"
      },
      "execution_count": 56,
      "outputs": [
        {
          "output_type": "execute_result",
          "data": {
            "text/plain": [
              "(266, 6)"
            ]
          },
          "metadata": {},
          "execution_count": 56
        }
      ]
    },
    {
      "cell_type": "code",
      "source": [
        "NewData.corr()"
      ],
      "metadata": {
        "colab": {
          "base_uri": "https://localhost:8080/",
          "height": 238
        },
        "id": "mG2u4MkPAFjx",
        "outputId": "cb557b09-5a60-4c31-cb0f-47b503b5e8a7"
      },
      "execution_count": 101,
      "outputs": [
        {
          "output_type": "execute_result",
          "data": {
            "text/plain": [
              "                 Previous_Close      Open      High       Low    Volume  \\\n",
              "Previous_Close         1.000000  0.998429  0.995422  0.994865 -0.228586   \n",
              "Open                   0.998429  1.000000  0.996812  0.996128 -0.228128   \n",
              "High                   0.995422  0.996812  1.000000  0.994958 -0.195197   \n",
              "Low                    0.994865  0.996128  0.994958  1.000000 -0.246434   \n",
              "Volume                -0.228586 -0.228128 -0.195197 -0.246434  1.000000   \n",
              "Previous_Volume       -0.151028 -0.154413 -0.126191 -0.163855  0.721407   \n",
              "\n",
              "                 Previous_Volume  \n",
              "Previous_Close         -0.151028  \n",
              "Open                   -0.154413  \n",
              "High                   -0.126191  \n",
              "Low                    -0.163855  \n",
              "Volume                  0.721407  \n",
              "Previous_Volume         1.000000  "
            ],
            "text/html": [
              "\n",
              "  <div id=\"df-3e9b77ae-10b4-439c-893d-0ba3daa3f0d1\">\n",
              "    <div class=\"colab-df-container\">\n",
              "      <div>\n",
              "<style scoped>\n",
              "    .dataframe tbody tr th:only-of-type {\n",
              "        vertical-align: middle;\n",
              "    }\n",
              "\n",
              "    .dataframe tbody tr th {\n",
              "        vertical-align: top;\n",
              "    }\n",
              "\n",
              "    .dataframe thead th {\n",
              "        text-align: right;\n",
              "    }\n",
              "</style>\n",
              "<table border=\"1\" class=\"dataframe\">\n",
              "  <thead>\n",
              "    <tr style=\"text-align: right;\">\n",
              "      <th></th>\n",
              "      <th>Previous_Close</th>\n",
              "      <th>Open</th>\n",
              "      <th>High</th>\n",
              "      <th>Low</th>\n",
              "      <th>Volume</th>\n",
              "      <th>Previous_Volume</th>\n",
              "    </tr>\n",
              "  </thead>\n",
              "  <tbody>\n",
              "    <tr>\n",
              "      <th>Previous_Close</th>\n",
              "      <td>1.000000</td>\n",
              "      <td>0.998429</td>\n",
              "      <td>0.995422</td>\n",
              "      <td>0.994865</td>\n",
              "      <td>-0.228586</td>\n",
              "      <td>-0.151028</td>\n",
              "    </tr>\n",
              "    <tr>\n",
              "      <th>Open</th>\n",
              "      <td>0.998429</td>\n",
              "      <td>1.000000</td>\n",
              "      <td>0.996812</td>\n",
              "      <td>0.996128</td>\n",
              "      <td>-0.228128</td>\n",
              "      <td>-0.154413</td>\n",
              "    </tr>\n",
              "    <tr>\n",
              "      <th>High</th>\n",
              "      <td>0.995422</td>\n",
              "      <td>0.996812</td>\n",
              "      <td>1.000000</td>\n",
              "      <td>0.994958</td>\n",
              "      <td>-0.195197</td>\n",
              "      <td>-0.126191</td>\n",
              "    </tr>\n",
              "    <tr>\n",
              "      <th>Low</th>\n",
              "      <td>0.994865</td>\n",
              "      <td>0.996128</td>\n",
              "      <td>0.994958</td>\n",
              "      <td>1.000000</td>\n",
              "      <td>-0.246434</td>\n",
              "      <td>-0.163855</td>\n",
              "    </tr>\n",
              "    <tr>\n",
              "      <th>Volume</th>\n",
              "      <td>-0.228586</td>\n",
              "      <td>-0.228128</td>\n",
              "      <td>-0.195197</td>\n",
              "      <td>-0.246434</td>\n",
              "      <td>1.000000</td>\n",
              "      <td>0.721407</td>\n",
              "    </tr>\n",
              "    <tr>\n",
              "      <th>Previous_Volume</th>\n",
              "      <td>-0.151028</td>\n",
              "      <td>-0.154413</td>\n",
              "      <td>-0.126191</td>\n",
              "      <td>-0.163855</td>\n",
              "      <td>0.721407</td>\n",
              "      <td>1.000000</td>\n",
              "    </tr>\n",
              "  </tbody>\n",
              "</table>\n",
              "</div>\n",
              "      <button class=\"colab-df-convert\" onclick=\"convertToInteractive('df-3e9b77ae-10b4-439c-893d-0ba3daa3f0d1')\"\n",
              "              title=\"Convert this dataframe to an interactive table.\"\n",
              "              style=\"display:none;\">\n",
              "        \n",
              "  <svg xmlns=\"http://www.w3.org/2000/svg\" height=\"24px\"viewBox=\"0 0 24 24\"\n",
              "       width=\"24px\">\n",
              "    <path d=\"M0 0h24v24H0V0z\" fill=\"none\"/>\n",
              "    <path d=\"M18.56 5.44l.94 2.06.94-2.06 2.06-.94-2.06-.94-.94-2.06-.94 2.06-2.06.94zm-11 1L8.5 8.5l.94-2.06 2.06-.94-2.06-.94L8.5 2.5l-.94 2.06-2.06.94zm10 10l.94 2.06.94-2.06 2.06-.94-2.06-.94-.94-2.06-.94 2.06-2.06.94z\"/><path d=\"M17.41 7.96l-1.37-1.37c-.4-.4-.92-.59-1.43-.59-.52 0-1.04.2-1.43.59L10.3 9.45l-7.72 7.72c-.78.78-.78 2.05 0 2.83L4 21.41c.39.39.9.59 1.41.59.51 0 1.02-.2 1.41-.59l7.78-7.78 2.81-2.81c.8-.78.8-2.07 0-2.86zM5.41 20L4 18.59l7.72-7.72 1.47 1.35L5.41 20z\"/>\n",
              "  </svg>\n",
              "      </button>\n",
              "      \n",
              "  <style>\n",
              "    .colab-df-container {\n",
              "      display:flex;\n",
              "      flex-wrap:wrap;\n",
              "      gap: 12px;\n",
              "    }\n",
              "\n",
              "    .colab-df-convert {\n",
              "      background-color: #E8F0FE;\n",
              "      border: none;\n",
              "      border-radius: 50%;\n",
              "      cursor: pointer;\n",
              "      display: none;\n",
              "      fill: #1967D2;\n",
              "      height: 32px;\n",
              "      padding: 0 0 0 0;\n",
              "      width: 32px;\n",
              "    }\n",
              "\n",
              "    .colab-df-convert:hover {\n",
              "      background-color: #E2EBFA;\n",
              "      box-shadow: 0px 1px 2px rgba(60, 64, 67, 0.3), 0px 1px 3px 1px rgba(60, 64, 67, 0.15);\n",
              "      fill: #174EA6;\n",
              "    }\n",
              "\n",
              "    [theme=dark] .colab-df-convert {\n",
              "      background-color: #3B4455;\n",
              "      fill: #D2E3FC;\n",
              "    }\n",
              "\n",
              "    [theme=dark] .colab-df-convert:hover {\n",
              "      background-color: #434B5C;\n",
              "      box-shadow: 0px 1px 3px 1px rgba(0, 0, 0, 0.15);\n",
              "      filter: drop-shadow(0px 1px 2px rgba(0, 0, 0, 0.3));\n",
              "      fill: #FFFFFF;\n",
              "    }\n",
              "  </style>\n",
              "\n",
              "      <script>\n",
              "        const buttonEl =\n",
              "          document.querySelector('#df-3e9b77ae-10b4-439c-893d-0ba3daa3f0d1 button.colab-df-convert');\n",
              "        buttonEl.style.display =\n",
              "          google.colab.kernel.accessAllowed ? 'block' : 'none';\n",
              "\n",
              "        async function convertToInteractive(key) {\n",
              "          const element = document.querySelector('#df-3e9b77ae-10b4-439c-893d-0ba3daa3f0d1');\n",
              "          const dataTable =\n",
              "            await google.colab.kernel.invokeFunction('convertToInteractive',\n",
              "                                                     [key], {});\n",
              "          if (!dataTable) return;\n",
              "\n",
              "          const docLinkHtml = 'Like what you see? Visit the ' +\n",
              "            '<a target=\"_blank\" href=https://colab.research.google.com/notebooks/data_table.ipynb>data table notebook</a>'\n",
              "            + ' to learn more about interactive tables.';\n",
              "          element.innerHTML = '';\n",
              "          dataTable['output_type'] = 'display_data';\n",
              "          await google.colab.output.renderOutput(dataTable, element);\n",
              "          const docLink = document.createElement('div');\n",
              "          docLink.innerHTML = docLinkHtml;\n",
              "          element.appendChild(docLink);\n",
              "        }\n",
              "      </script>\n",
              "    </div>\n",
              "  </div>\n",
              "  "
            ]
          },
          "metadata": {},
          "execution_count": 101
        }
      ]
    },
    {
      "cell_type": "code",
      "source": [
        "Data1=NewData.drop(columns=['High','Low'])"
      ],
      "metadata": {
        "id": "O0tQvQwJEsI8"
      },
      "execution_count": 102,
      "outputs": []
    },
    {
      "cell_type": "code",
      "source": [
        "Data2=Data1.fillna(Data1.mean())\n",
        "Data2"
      ],
      "metadata": {
        "colab": {
          "base_uri": "https://localhost:8080/",
          "height": 424
        },
        "id": "u2Cdz6yzMldh",
        "outputId": "efb24bd3-3e68-4644-e640-fedf5b96162e"
      },
      "execution_count": 105,
      "outputs": [
        {
          "output_type": "execute_result",
          "data": {
            "text/plain": [
              "     Previous_Close    Open     Volume  Previous_Volume\n",
              "6            133.50  135.75   66909732       88312522.0\n",
              "7            139.70  137.00   46610001       66909732.0\n",
              "8            139.40  139.80   41134419       46610001.0\n",
              "9            138.40  138.75   38437134       41134419.0\n",
              "10           134.95  135.50   31975356       38437134.0\n",
              "..              ...     ...        ...              ...\n",
              "254           43.95   44.90  267544569      411205172.0\n",
              "255           45.70   45.60  177187972      267544569.0\n",
              "256           46.80   46.80  135944043      177187972.0\n",
              "257           46.30   50.00  528899748      135944043.0\n",
              "258           55.55   52.50  599688336      528899748.0\n",
              "\n",
              "[266 rows x 4 columns]"
            ],
            "text/html": [
              "\n",
              "  <div id=\"df-24c86825-ed52-47f2-b301-e416c62c122d\">\n",
              "    <div class=\"colab-df-container\">\n",
              "      <div>\n",
              "<style scoped>\n",
              "    .dataframe tbody tr th:only-of-type {\n",
              "        vertical-align: middle;\n",
              "    }\n",
              "\n",
              "    .dataframe tbody tr th {\n",
              "        vertical-align: top;\n",
              "    }\n",
              "\n",
              "    .dataframe thead th {\n",
              "        text-align: right;\n",
              "    }\n",
              "</style>\n",
              "<table border=\"1\" class=\"dataframe\">\n",
              "  <thead>\n",
              "    <tr style=\"text-align: right;\">\n",
              "      <th></th>\n",
              "      <th>Previous_Close</th>\n",
              "      <th>Open</th>\n",
              "      <th>Volume</th>\n",
              "      <th>Previous_Volume</th>\n",
              "    </tr>\n",
              "  </thead>\n",
              "  <tbody>\n",
              "    <tr>\n",
              "      <th>6</th>\n",
              "      <td>133.50</td>\n",
              "      <td>135.75</td>\n",
              "      <td>66909732</td>\n",
              "      <td>88312522.0</td>\n",
              "    </tr>\n",
              "    <tr>\n",
              "      <th>7</th>\n",
              "      <td>139.70</td>\n",
              "      <td>137.00</td>\n",
              "      <td>46610001</td>\n",
              "      <td>66909732.0</td>\n",
              "    </tr>\n",
              "    <tr>\n",
              "      <th>8</th>\n",
              "      <td>139.40</td>\n",
              "      <td>139.80</td>\n",
              "      <td>41134419</td>\n",
              "      <td>46610001.0</td>\n",
              "    </tr>\n",
              "    <tr>\n",
              "      <th>9</th>\n",
              "      <td>138.40</td>\n",
              "      <td>138.75</td>\n",
              "      <td>38437134</td>\n",
              "      <td>41134419.0</td>\n",
              "    </tr>\n",
              "    <tr>\n",
              "      <th>10</th>\n",
              "      <td>134.95</td>\n",
              "      <td>135.50</td>\n",
              "      <td>31975356</td>\n",
              "      <td>38437134.0</td>\n",
              "    </tr>\n",
              "    <tr>\n",
              "      <th>...</th>\n",
              "      <td>...</td>\n",
              "      <td>...</td>\n",
              "      <td>...</td>\n",
              "      <td>...</td>\n",
              "    </tr>\n",
              "    <tr>\n",
              "      <th>254</th>\n",
              "      <td>43.95</td>\n",
              "      <td>44.90</td>\n",
              "      <td>267544569</td>\n",
              "      <td>411205172.0</td>\n",
              "    </tr>\n",
              "    <tr>\n",
              "      <th>255</th>\n",
              "      <td>45.70</td>\n",
              "      <td>45.60</td>\n",
              "      <td>177187972</td>\n",
              "      <td>267544569.0</td>\n",
              "    </tr>\n",
              "    <tr>\n",
              "      <th>256</th>\n",
              "      <td>46.80</td>\n",
              "      <td>46.80</td>\n",
              "      <td>135944043</td>\n",
              "      <td>177187972.0</td>\n",
              "    </tr>\n",
              "    <tr>\n",
              "      <th>257</th>\n",
              "      <td>46.30</td>\n",
              "      <td>50.00</td>\n",
              "      <td>528899748</td>\n",
              "      <td>135944043.0</td>\n",
              "    </tr>\n",
              "    <tr>\n",
              "      <th>258</th>\n",
              "      <td>55.55</td>\n",
              "      <td>52.50</td>\n",
              "      <td>599688336</td>\n",
              "      <td>528899748.0</td>\n",
              "    </tr>\n",
              "  </tbody>\n",
              "</table>\n",
              "<p>266 rows × 4 columns</p>\n",
              "</div>\n",
              "      <button class=\"colab-df-convert\" onclick=\"convertToInteractive('df-24c86825-ed52-47f2-b301-e416c62c122d')\"\n",
              "              title=\"Convert this dataframe to an interactive table.\"\n",
              "              style=\"display:none;\">\n",
              "        \n",
              "  <svg xmlns=\"http://www.w3.org/2000/svg\" height=\"24px\"viewBox=\"0 0 24 24\"\n",
              "       width=\"24px\">\n",
              "    <path d=\"M0 0h24v24H0V0z\" fill=\"none\"/>\n",
              "    <path d=\"M18.56 5.44l.94 2.06.94-2.06 2.06-.94-2.06-.94-.94-2.06-.94 2.06-2.06.94zm-11 1L8.5 8.5l.94-2.06 2.06-.94-2.06-.94L8.5 2.5l-.94 2.06-2.06.94zm10 10l.94 2.06.94-2.06 2.06-.94-2.06-.94-.94-2.06-.94 2.06-2.06.94z\"/><path d=\"M17.41 7.96l-1.37-1.37c-.4-.4-.92-.59-1.43-.59-.52 0-1.04.2-1.43.59L10.3 9.45l-7.72 7.72c-.78.78-.78 2.05 0 2.83L4 21.41c.39.39.9.59 1.41.59.51 0 1.02-.2 1.41-.59l7.78-7.78 2.81-2.81c.8-.78.8-2.07 0-2.86zM5.41 20L4 18.59l7.72-7.72 1.47 1.35L5.41 20z\"/>\n",
              "  </svg>\n",
              "      </button>\n",
              "      \n",
              "  <style>\n",
              "    .colab-df-container {\n",
              "      display:flex;\n",
              "      flex-wrap:wrap;\n",
              "      gap: 12px;\n",
              "    }\n",
              "\n",
              "    .colab-df-convert {\n",
              "      background-color: #E8F0FE;\n",
              "      border: none;\n",
              "      border-radius: 50%;\n",
              "      cursor: pointer;\n",
              "      display: none;\n",
              "      fill: #1967D2;\n",
              "      height: 32px;\n",
              "      padding: 0 0 0 0;\n",
              "      width: 32px;\n",
              "    }\n",
              "\n",
              "    .colab-df-convert:hover {\n",
              "      background-color: #E2EBFA;\n",
              "      box-shadow: 0px 1px 2px rgba(60, 64, 67, 0.3), 0px 1px 3px 1px rgba(60, 64, 67, 0.15);\n",
              "      fill: #174EA6;\n",
              "    }\n",
              "\n",
              "    [theme=dark] .colab-df-convert {\n",
              "      background-color: #3B4455;\n",
              "      fill: #D2E3FC;\n",
              "    }\n",
              "\n",
              "    [theme=dark] .colab-df-convert:hover {\n",
              "      background-color: #434B5C;\n",
              "      box-shadow: 0px 1px 3px 1px rgba(0, 0, 0, 0.15);\n",
              "      filter: drop-shadow(0px 1px 2px rgba(0, 0, 0, 0.3));\n",
              "      fill: #FFFFFF;\n",
              "    }\n",
              "  </style>\n",
              "\n",
              "      <script>\n",
              "        const buttonEl =\n",
              "          document.querySelector('#df-24c86825-ed52-47f2-b301-e416c62c122d button.colab-df-convert');\n",
              "        buttonEl.style.display =\n",
              "          google.colab.kernel.accessAllowed ? 'block' : 'none';\n",
              "\n",
              "        async function convertToInteractive(key) {\n",
              "          const element = document.querySelector('#df-24c86825-ed52-47f2-b301-e416c62c122d');\n",
              "          const dataTable =\n",
              "            await google.colab.kernel.invokeFunction('convertToInteractive',\n",
              "                                                     [key], {});\n",
              "          if (!dataTable) return;\n",
              "\n",
              "          const docLinkHtml = 'Like what you see? Visit the ' +\n",
              "            '<a target=\"_blank\" href=https://colab.research.google.com/notebooks/data_table.ipynb>data table notebook</a>'\n",
              "            + ' to learn more about interactive tables.';\n",
              "          element.innerHTML = '';\n",
              "          dataTable['output_type'] = 'display_data';\n",
              "          await google.colab.output.renderOutput(dataTable, element);\n",
              "          const docLink = document.createElement('div');\n",
              "          docLink.innerHTML = docLinkHtml;\n",
              "          element.appendChild(docLink);\n",
              "        }\n",
              "      </script>\n",
              "    </div>\n",
              "  </div>\n",
              "  "
            ]
          },
          "metadata": {},
          "execution_count": 105
        }
      ]
    },
    {
      "cell_type": "code",
      "source": [
        "Data2.plot(x=\"Previous_Close\",y=\"Open\",style='o')\n",
        "plt.title(\"Previous_ClosePrice Vs OpenPrice\")\n",
        "plt.xlabel(\"Previous_Close\")\n",
        "plt.ylabel(\"Open\")\n",
        "plt.show()"
      ],
      "metadata": {
        "colab": {
          "base_uri": "https://localhost:8080/",
          "height": 296
        },
        "id": "5rALERj5CBH_",
        "outputId": "16cbdf83-ce6c-44a3-f41e-6cee2f3ccfa5"
      },
      "execution_count": 107,
      "outputs": [
        {
          "output_type": "display_data",
          "data": {
            "text/plain": [
              "<Figure size 432x288 with 1 Axes>"
            ],
            "image/png": "[encoded data removed]"
          },
          "metadata": {
            "needs_background": "light"
          }
        }
      ]
    },
    {
      "cell_type": "markdown",
      "source": [
        "# **Split Data**"
      ],
      "metadata": {
        "id": "ve2e5dKDEB0R"
      }
    },
    {
      "cell_type": "code",
      "source": [
        "\n",
        "X=Data2.drop('Open',axis=1)\n",
        "y=Data2['Open']"
      ],
      "metadata": {
        "id": "krix0FV2Cx2f"
      },
      "execution_count": 108,
      "outputs": []
    },
    {
      "cell_type": "code",
      "source": [
        "print(X.shape)\n",
        "print(y.shape)"
      ],
      "metadata": {
        "colab": {
          "base_uri": "https://localhost:8080/"
        },
        "id": "uC4qQ4s4NJ9R",
        "outputId": "155267f8-05d8-458d-a36b-6a746c70b6a9"
      },
      "execution_count": 110,
      "outputs": [
        {
          "output_type": "stream",
          "name": "stdout",
          "text": [
            "(266, 3)\n",
            "(266,)\n"
          ]
        }
      ]
    },
    {
      "cell_type": "code",
      "source": [
        "from sklearn.model_selection import train_test_split"
      ],
      "metadata": {
        "id": "6bKIcSWkEZZm"
      },
      "execution_count": 111,
      "outputs": []
    },
    {
      "cell_type": "code",
      "source": [
        "X_train,X_test,y_train,y_test=train_test_split(X,y,test_size=0.3)\n",
        "print(\"Shape of X_train :\",X_train.shape)\n",
        "print(\"Shape of y_train :\",y_train.shape)\n",
        "print(\"Shape of X_Test :\",X_test.shape)\n",
        "print(\"Shape of y_test :\",y_test.shape)"
      ],
      "metadata": {
        "colab": {
          "base_uri": "https://localhost:8080/"
        },
        "id": "v20HpN6XGfKl",
        "outputId": "cb9c0bec-9768-4146-dbd0-35a9c59ac107"
      },
      "execution_count": 124,
      "outputs": [
        {
          "output_type": "stream",
          "name": "stdout",
          "text": [
            "Shape of X_train : (186, 3)\n",
            "Shape of y_train : (186,)\n",
            "Shape of X_Test : (80, 3)\n",
            "Shape of y_test : (80,)\n"
          ]
        }
      ]
    },
    {
      "cell_type": "markdown",
      "source": [
        "## **Lener Regression Model**"
      ],
      "metadata": {
        "id": "OSVbVUt-G8DI"
      }
    },
    {
      "cell_type": "code",
      "source": [
        "from sklearn.linear_model import LinearRegression\n",
        "lr=LinearRegression()"
      ],
      "metadata": {
        "id": "q6PxkWSUGxYV"
      },
      "execution_count": 125,
      "outputs": []
    },
    {
      "cell_type": "code",
      "source": [
        "lr.fit(X_train,y_train)"
      ],
      "metadata": {
        "colab": {
          "base_uri": "https://localhost:8080/"
        },
        "id": "Q0Qujf_PHOp0",
        "outputId": "c64fc1d0-d144-4921-a1c2-6c6f64a2d650"
      },
      "execution_count": 128,
      "outputs": [
        {
          "output_type": "execute_result",
          "data": {
            "text/plain": [
              "LinearRegression()"
            ]
          },
          "metadata": {},
          "execution_count": 128
        }
      ]
    },
    {
      "cell_type": "code",
      "source": [
        "lr.coef_"
      ],
      "metadata": {
        "colab": {
          "base_uri": "https://localhost:8080/"
        },
        "id": "elo08PZNHUIE",
        "outputId": "a270c2c0-2320-45ee-b695-c0923fa51a49"
      },
      "execution_count": 129,
      "outputs": [
        {
          "output_type": "execute_result",
          "data": {
            "text/plain": [
              "array([ 1.00561197e+00,  3.46307018e-09, -6.56773619e-09])"
            ]
          },
          "metadata": {},
          "execution_count": 129
        }
      ]
    },
    {
      "cell_type": "code",
      "source": [
        "lr.intercept_"
      ],
      "metadata": {
        "colab": {
          "base_uri": "https://localhost:8080/"
        },
        "id": "uaeCTyRWQpfm",
        "outputId": "254e6065-f9c3-453e-f8f9-63e2e37b1407"
      },
      "execution_count": 130,
      "outputs": [
        {
          "output_type": "execute_result",
          "data": {
            "text/plain": [
              "-0.10572724116518373"
            ]
          },
          "metadata": {},
          "execution_count": 130
        }
      ]
    },
    {
      "cell_type": "code",
      "source": [
        "y_pred=lr.predict(X_test)"
      ],
      "metadata": {
        "id": "dpIGvOcoQxGW"
      },
      "execution_count": 131,
      "outputs": []
    },
    {
      "cell_type": "code",
      "source": [
        "df2=pd.DataFrame({'Actual':y_test,'Predicted':y_pred})\n",
        "\n",
        "print(df2)"
      ],
      "metadata": {
        "colab": {
          "base_uri": "https://localhost:8080/"
        },
        "id": "aCAJQog2Q9Fm",
        "outputId": "20ce29df-472c-4a6d-fc19-eed76e299b47"
      },
      "execution_count": 132,
      "outputs": [
        {
          "output_type": "stream",
          "name": "stdout",
          "text": [
            "     Actual   Predicted\n",
            "244   56.20   55.740218\n",
            "1    126.35  122.902303\n",
            "207   65.70   64.299109\n",
            "194   59.30   61.286209\n",
            "60   138.50  139.169002\n",
            "..      ...         ...\n",
            "245   54.70   53.946691\n",
            "3    131.00  132.514978\n",
            "36   142.95  144.199701\n",
            "14   135.65  135.749407\n",
            "240   54.70   54.936454\n",
            "\n",
            "[80 rows x 2 columns]\n"
          ]
        }
      ]
    },
    {
      "cell_type": "code",
      "source": [
        "from sklearn import metrics\n",
        "print(\"R_square:\",metrics.r2_score(y_test,y_pred))"
      ],
      "metadata": {
        "colab": {
          "base_uri": "https://localhost:8080/"
        },
        "id": "gJj0PRLuRS92",
        "outputId": "edec61a2-1ae1-486a-dccf-e229f49643dd"
      },
      "execution_count": 134,
      "outputs": [
        {
          "output_type": "stream",
          "name": "stdout",
          "text": [
            "R_square: 0.9925744606979079\n"
          ]
        }
      ]
    }
  ]
}